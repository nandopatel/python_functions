{
 "cells": [
  {
   "cell_type": "code",
   "execution_count": 3,
   "metadata": {
    "collapsed": false
   },
   "outputs": [
    {
     "name": "stdout",
     "output_type": "stream",
     "text": [
      "[2, 8, 34, 144, 610, 2584, 10946, 46368, 196418, 832040, 3524578]\n",
      "4613732\n"
     ]
    }
   ],
   "source": [
    "x = 0\n",
    "fib= 0\n",
    "f1 = 1\n",
    "f2 = 0\n",
    "lst = []\n",
    "while fib < 4000000:\n",
    "    fib = f1 + f2\n",
    "    f2 = f1\n",
    "    f1 = fib\n",
    "    if fib % 2 == 0:\n",
    "        x += fib\n",
    "        lst.append(fib)\n",
    "print(lst)\n",
    "print(x)"
   ]
  },
  {
   "cell_type": "code",
   "execution_count": null,
   "metadata": {
    "collapsed": true
   },
   "outputs": [],
   "source": []
  }
 ],
 "metadata": {
  "kernelspec": {
   "display_name": "Python 2",
   "language": "python",
   "name": "python2"
  },
  "language_info": {
   "codemirror_mode": {
    "name": "ipython",
    "version": 2
   },
   "file_extension": ".py",
   "mimetype": "text/x-python",
   "name": "python",
   "nbconvert_exporter": "python",
   "pygments_lexer": "ipython2",
   "version": "2.7.10"
  }
 },
 "nbformat": 4,
 "nbformat_minor": 0
}
