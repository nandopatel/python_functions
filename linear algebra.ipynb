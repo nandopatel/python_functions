{
 "cells": [
  {
   "cell_type": "code",
   "execution_count": 70,
   "metadata": {
    "collapsed": false
   },
   "outputs": [],
   "source": [
    "string = '''The set of points with coordinates that satisfy a linear equation forms a hyperplane in an n-dimensional space. \n",
    "The conditions under which a set of n hyperplanes intersect in a single point is an important focus of study in linear algebra. \n",
    "Such an investigation is initially motivated by a system of linear equations containing several unknowns. \n",
    "Such equations are naturally represented using the formalism of matrices and vectors.The study of matrix algebra first emerged in England in the mid-1800s.\n",
    "In 1844 Hermann Grassmann published his “Theory of Extension” which included foundational new topics of what is today called linear algebra.\n",
    "In 1848, James Joseph Sylvester introduced the term matrix, which is Latin for \"womb\".\n",
    "While studying compositions of linear transformations, Arthur Cayley was led to define matrix multiplication and inverses.\n",
    "Crucially, Cayley used a single letter to denote a matrix, thus treating a matrix as an aggregate object.\n",
    "He also realized the connection between matrices and determinants, and wrote \"There would be many things to say about this theory of matrices which should, it seems to me, precede the theory of determinants'''\n",
    "\n",
    "list(string)\n",
    "\n",
    "cl_lst = [x.lower().replace('.','').replace('-','').replace('\\n','').replace(' ','') for x in string]   \n",
    "dct = {}\n",
    "\n",
    "\n",
    "for x in range(26):\n",
    "    dct[chr(x+97)] = cl_lst.count(chr(x+97))\n",
    "    "
   ]
  },
  {
   "cell_type": "code",
   "execution_count": 73,
   "metadata": {
    "collapsed": false
   },
   "outputs": [],
   "source": [
    "cl_lst2 = [x/float(sum(dct.values())) for x in dct.values() ]\n",
    "for x in range(26):\n",
    "    dct[chr(x+97)] = cl_lst2[x]*100"
   ]
  },
  {
   "cell_type": "code",
   "execution_count": 75,
   "metadata": {
    "collapsed": false
   },
   "outputs": [
    {
     "name": "stdout",
     "output_type": "stream",
     "text": [
      "{'a': 8.966244725738395, 'c': 3.164556962025316, 'b': 1.0548523206751053, 'e': 11.075949367088604, 'd': 3.586497890295358, 'g': 1.793248945147679, 'f': 2.1097046413502105, 'i': 8.860759493670885, 'h': 4.0084388185654, 'k': 0.10548523206751052, 'j': 0.31645569620253156, 'm': 3.164556962025316, 'l': 4.219409282700421, 'o': 6.434599156118143, 'n': 8.860759493670885, 'q': 0.31645569620253156, 'p': 1.582278481012658, 's': 7.278481012658227, 'r': 5.90717299578059, 'u': 2.6371308016877633, 't': 9.388185654008437, 'w': 1.4767932489451474, 'v': 0.6329113924050631, 'y': 2.3206751054852317, 'x': 0.6329113924050631, 'z': 0.10548523206751052}\n"
     ]
    }
   ],
   "source": [
    "#prints the probabilities in percentages of hitting a letter.\n",
    "print dct,"
   ]
  },
  {
   "cell_type": "code",
   "execution_count": null,
   "metadata": {
    "collapsed": true
   },
   "outputs": [],
   "source": []
  }
 ],
 "metadata": {
  "kernelspec": {
   "display_name": "Python 2",
   "language": "python",
   "name": "python2"
  },
  "language_info": {
   "codemirror_mode": {
    "name": "ipython",
    "version": 2
   },
   "file_extension": ".py",
   "mimetype": "text/x-python",
   "name": "python",
   "nbconvert_exporter": "python",
   "pygments_lexer": "ipython2",
   "version": "2.7.10"
  }
 },
 "nbformat": 4,
 "nbformat_minor": 0
}
