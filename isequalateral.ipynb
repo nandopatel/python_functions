{
 "cells": [
  {
   "cell_type": "code",
   "execution_count": 1,
   "metadata": {
    "collapsed": false
   },
   "outputs": [
    {
     "name": "stdout",
     "output_type": "stream",
     "text": [
      "Enter first side:5\n",
      "Enter second side:43\n",
      "Enter third side:8\n",
      "False\n"
     ]
    }
   ],
   "source": [
    "x=input(\"Enter first side:\")  \n",
    "y=input(\"Enter second side:\")  \n",
    "z=input(\"Enter third side:\")   \n",
    "\n",
    "def isEquilateral(x,y,z):\n",
    "    if x == y == z:\n",
    "        return True\n",
    "    else:\n",
    "        return False\n",
    "\n",
    "print(isEquilateral(x,y,z))   "
   ]
  }
 ],
 "metadata": {
  "kernelspec": {
   "display_name": "Python 2",
   "language": "python",
   "name": "python2"
  },
  "language_info": {
   "codemirror_mode": {
    "name": "ipython",
    "version": 2
   },
   "file_extension": ".py",
   "mimetype": "text/x-python",
   "name": "python",
   "nbconvert_exporter": "python",
   "pygments_lexer": "ipython2",
   "version": "2.7.10"
  }
 },
 "nbformat": 4,
 "nbformat_minor": 0
}
