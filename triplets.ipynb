{
 "cells": [
  {
   "cell_type": "code",
   "execution_count": 2,
   "metadata": {
    "collapsed": false
   },
   "outputs": [
    {
     "name": "stdout",
     "output_type": "stream",
     "text": [
      "Enter a string: asdf\n"
     ]
    },
    {
     "data": {
      "text/plain": [
       "'There are 0 triplets'"
      ]
     },
     "execution_count": 2,
     "metadata": {},
     "output_type": "execute_result"
    }
   ],
   "source": [
    "#finds triplets in a string\n",
    "def main():\n",
    "    s = raw_input(\"Enter a string: \")\n",
    "    total = 0\n",
    "    for indx in range(len(s)-2):\n",
    "        if s[indx]==s[indx+1] and s[indx+1]==s[indx+2]:\n",
    "            total += 1\n",
    "    if total == 1 :\n",
    "        return 'There is 1 triplet'\n",
    "    else:\n",
    "        return 'There are {} triplets'.format(total)\n",
    "main()\n",
    "    \n"
   ]
  }
 ],
 "metadata": {
  "kernelspec": {
   "display_name": "Python 2",
   "language": "python",
   "name": "python2"
  },
  "language_info": {
   "codemirror_mode": {
    "name": "ipython",
    "version": 2
   },
   "file_extension": ".py",
   "mimetype": "text/x-python",
   "name": "python",
   "nbconvert_exporter": "python",
   "pygments_lexer": "ipython2",
   "version": "2.7.10"
  }
 },
 "nbformat": 4,
 "nbformat_minor": 0
}
