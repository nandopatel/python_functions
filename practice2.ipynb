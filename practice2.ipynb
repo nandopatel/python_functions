{
 "cells": [
  {
   "cell_type": "code",
   "execution_count": 2,
   "metadata": {
    "collapsed": false
   },
   "outputs": [],
   "source": [
    "un = 'root'\n",
    "pas= 'toor'\n",
    "\n",
    "def login():\n",
    "    username = raw_input(\"Enter Username:\")\n",
    "    password = raw_input(\"Enter Password:\")\n",
    "    if str(un) == str(username):\n",
    "        print \"Welcome to AI System\"\n",
    "    else:\n",
    "        print \"Incorrect Username or Password\"\n",
    "        return login()\n",
    "\n",
    "\n",
    "    \n"
   ]
  },
  {
   "cell_type": "code",
   "execution_count": 3,
   "metadata": {
    "collapsed": false
   },
   "outputs": [
    {
     "name": "stdout",
     "output_type": "stream",
     "text": [
      "Enter Username:root\n",
      "Enter Password:toor\n",
      "Welcome to AI System\n"
     ]
    }
   ],
   "source": [
    "login()"
   ]
  },
  {
   "cell_type": "code",
   "execution_count": 4,
   "metadata": {
    "collapsed": false
   },
   "outputs": [
    {
     "name": "stdout",
     "output_type": "stream",
     "text": [
      "Enter a number:45\n",
      "Enter no. of multiples:6\n",
      "45 * 1 = 45\n",
      "45 * 2 = 90\n",
      "45 * 3 = 135\n",
      "45 * 4 = 180\n",
      "45 * 5 = 225\n",
      "45 * 6 = 270\n"
     ]
    }
   ],
   "source": [
    "def multiples():\n",
    "    num = int(input(\"Enter a number:\"))\n",
    "    multiples = int(input(\"Enter no. of multiples:\"))\n",
    "    for multiplier in range(1,multiples+1):\n",
    "        answer = num * multiplier  \n",
    "        print \"{} * {} =\".format(num,multiplier),answer\n",
    "    \n",
    "    \n",
    "    \n",
    "    #}    \n",
    "multiples()\n"
   ]
  },
  {
   "cell_type": "code",
   "execution_count": 6,
   "metadata": {
    "collapsed": false
   },
   "outputs": [
    {
     "name": "stdout",
     "output_type": "stream",
     "text": [
      "Enter the 1st Number:2\n",
      "Enter the 2nd Number:3\n",
      "Enter the 3rd Number:6\n",
      "2 3 6\n"
     ]
    }
   ],
   "source": [
    "#sorts a set of numbers\n",
    "\n",
    "x = input('Enter the 1st Number:') \n",
    "y = input('Enter the 2nd Number:') \n",
    "z = input('Enter the 3rd Number:')\n",
    "lst = [x,y,z]\n",
    "\n",
    "lst.sort()\n",
    "for item in lst:\n",
    "    print item,\n",
    "\n"
   ]
  }
 ],
 "metadata": {
  "kernelspec": {
   "display_name": "Python 2",
   "language": "python",
   "name": "python2"
  },
  "language_info": {
   "codemirror_mode": {
    "name": "ipython",
    "version": 2
   },
   "file_extension": ".py",
   "mimetype": "text/x-python",
   "name": "python",
   "nbconvert_exporter": "python",
   "pygments_lexer": "ipython2",
   "version": "2.7.10"
  }
 },
 "nbformat": 4,
 "nbformat_minor": 0
}
