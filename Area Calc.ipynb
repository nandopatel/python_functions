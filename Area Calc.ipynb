{
 "cells": [
  {
   "cell_type": "code",
   "execution_count": 7,
   "metadata": {
    "collapsed": false
   },
   "outputs": [
    {
     "name": "stdout",
     "output_type": "stream",
     "text": [
      "Calculator starting...\n",
      "02/25/16 20:05\n",
      "Enter C for Circle or T for Triangle:c\n",
      "Input the radius:20\n",
      "The pie is baking...\n",
      "Area = 1256.63706144 /n Dont' forget to include the correct units! \n",
      "Exiting...\n"
     ]
    }
   ],
   "source": [
    "\"\"\"Area calculator of a shape\"\"\"\n",
    "from math import pi\n",
    "from time import sleep\n",
    "from datetime import datetime\n",
    "\n",
    "now = datetime.now()\n",
    "hint = \"Dont' forget to include the correct units! \\nExiting...\"\n",
    "\n",
    "print \"Calculator starting...\"\n",
    "print \"{:%m/%d/%y %H:%M}\".format(datetime.now())\n",
    "sleep(1)\n",
    "option = raw_input(\"Enter C for Circle or T for Triangle:\").upper()\n",
    "\n",
    "if option == \"C\":\n",
    "  radius = float(input(\"Input the radius:\"))\n",
    "  area = pi * radius**2\n",
    "  print \"The pie is baking...\"\n",
    "  sleep(1)\n",
    "  print \"Area = {} \\n{}\".format(area,hint)\n",
    "elif option == \"T\":\n",
    "  base = float(input(\"Input the base:\"))\n",
    "  height = float(input(\"Input the height:\"))\n",
    "  area = base * height / 2\n",
    "  print \"Uni Bi Tri...\"\n",
    "  sleep(1)\n",
    "  print \"Area = {} \\n{}\".format(area,hint)\n",
    "else:\n",
    "  print \"Sorry, i cannot work out that shape.\""
   ]
  }
 ],
 "metadata": {
  "kernelspec": {
   "display_name": "Python 2",
   "language": "python",
   "name": "python2"
  },
  "language_info": {
   "codemirror_mode": {
    "name": "ipython",
    "version": 2
   },
   "file_extension": ".py",
   "mimetype": "text/x-python",
   "name": "python",
   "nbconvert_exporter": "python",
   "pygments_lexer": "ipython2",
   "version": "2.7.10"
  }
 },
 "nbformat": 4,
 "nbformat_minor": 0
}
