{
 "cells": [
  {
   "cell_type": "code",
   "execution_count": 3,
   "metadata": {
    "collapsed": false
   },
   "outputs": [
    {
     "name": "stdout",
     "output_type": "stream",
     "text": [
      "Enter any string: ppo\n",
      "ppo has duplicate characters\n"
     ]
    }
   ],
   "source": [
    "#Checks if all characters in a string are unique\n",
    "def main():\n",
    "    str = raw_input(\"Enter any string: \")\n",
    "    if len(set(str.lower())) == len(str.lower()):\n",
    "        print (str)+' has all unique characters'\n",
    "    else:\n",
    "        print (str)+' has duplicate characters'     \n",
    "main()  "
   ]
  }
 ],
 "metadata": {
  "kernelspec": {
   "display_name": "Python 2",
   "language": "python",
   "name": "python2"
  },
  "language_info": {
   "codemirror_mode": {
    "name": "ipython",
    "version": 2
   },
   "file_extension": ".py",
   "mimetype": "text/x-python",
   "name": "python",
   "nbconvert_exporter": "python",
   "pygments_lexer": "ipython2",
   "version": "2.7.10"
  }
 },
 "nbformat": 4,
 "nbformat_minor": 0
}
