{
 "cells": [
  {
   "cell_type": "code",
   "execution_count": 4,
   "metadata": {
    "collapsed": false
   },
   "outputs": [
    {
     "name": "stdout",
     "output_type": "stream",
     "text": [
      "Enter the first number:4.5\n",
      "Enter the second number:7.5\n",
      "12\n"
     ]
    }
   ],
   "source": [
    "#Finds the sum of two numbers and returns value as int not float\n",
    "x=input(\"Enter the first number:\") \n",
    "y=input(\"Enter the second number:\")  \n",
    "def Adder(x,y):\n",
    "    return int(float(x)+float(y))\n",
    "print(Adder(x,y))\n"
   ]
  }
 ],
 "metadata": {
  "kernelspec": {
   "display_name": "Python 2",
   "language": "python",
   "name": "python2"
  },
  "language_info": {
   "codemirror_mode": {
    "name": "ipython",
    "version": 2
   },
   "file_extension": ".py",
   "mimetype": "text/x-python",
   "name": "python",
   "nbconvert_exporter": "python",
   "pygments_lexer": "ipython2",
   "version": "2.7.10"
  }
 },
 "nbformat": 4,
 "nbformat_minor": 0
}
