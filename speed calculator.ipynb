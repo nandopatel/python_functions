{
 "cells": [
  {
   "cell_type": "code",
   "execution_count": 12,
   "metadata": {
    "collapsed": false
   },
   "outputs": [],
   "source": [
    "def speedcalc(d,t):\n",
    "    dct={\"distance\":d,\"timetaken\":t,\"speed\":d/t}\n",
    "    \n",
    "    print \"Speed calculator\"\n",
    "    print \"Distance covered: \", d\n",
    "    print \"Time taken: \", t\n",
    "    print d/t, \"m/s\"\n",
    "    return dct\n",
    "\n",
    "\n"
   ]
  },
  {
   "cell_type": "code",
   "execution_count": 21,
   "metadata": {
    "collapsed": false
   },
   "outputs": [],
   "source": [
    "\n",
    "def findweight(m,g):\n",
    "    d={'weight':m*g,'mass':m,'gForce':g}\n",
    "     \n",
    "   \n",
    "    print \"Your mass is\", m\n",
    "    print \"The gravitational force is\", g\n",
    "    #Earth gravitational field strenghth is 9.8m/s\n",
    "    print \"Your weight is\", m*g\n",
    "    return d"
   ]
  },
  {
   "cell_type": "code",
   "execution_count": 22,
   "metadata": {
    "collapsed": false
   },
   "outputs": [
    {
     "name": "stdout",
     "output_type": "stream",
     "text": [
      "Your mass is 8\n",
      "The gravitational force is 5.6\n",
      "Your weight is 44.8\n"
     ]
    },
    {
     "data": {
      "text/plain": [
       "{'gForce': 5.6, 'mass': 8, 'weight': 44.8}"
      ]
     },
     "execution_count": 22,
     "metadata": {},
     "output_type": "execute_result"
    }
   ],
   "source": [
    "findweight(8,5.6)"
   ]
  },
  {
   "cell_type": "code",
   "execution_count": 18,
   "metadata": {
    "collapsed": false
   },
   "outputs": [
    {
     "name": "stdout",
     "output_type": "stream",
     "text": [
      "Your mass is 8\n",
      "The gravitational force is 5.6\n",
      "Your weight is 44.8\n"
     ]
    }
   ],
   "source": [
    "dct=findweight(8,5.6)"
   ]
  },
  {
   "cell_type": "code",
   "execution_count": 19,
   "metadata": {
    "collapsed": false
   },
   "outputs": [
    {
     "data": {
      "text/plain": [
       "44.8"
      ]
     },
     "execution_count": 19,
     "metadata": {},
     "output_type": "execute_result"
    }
   ],
   "source": [
    "dct['weight']"
   ]
  },
  {
   "cell_type": "code",
   "execution_count": 14,
   "metadata": {
    "collapsed": false
   },
   "outputs": [
    {
     "name": "stdout",
     "output_type": "stream",
     "text": [
      "Speed calculator\n",
      "Distance covered:  130\n",
      "Time taken:  30\n",
      "4 m/s\n"
     ]
    },
    {
     "data": {
      "text/plain": [
       "{'distance': 130, 'speed': 4, 'timetaken': 30}"
      ]
     },
     "execution_count": 14,
     "metadata": {},
     "output_type": "execute_result"
    }
   ],
   "source": [
    "speedcalc(130,30)"
   ]
  }
 ],
 "metadata": {
  "kernelspec": {
   "display_name": "Python 2",
   "language": "python",
   "name": "python2"
  },
  "language_info": {
   "codemirror_mode": {
    "name": "ipython",
    "version": 2
   },
   "file_extension": ".py",
   "mimetype": "text/x-python",
   "name": "python",
   "nbconvert_exporter": "python",
   "pygments_lexer": "ipython2",
   "version": "2.7.10"
  }
 },
 "nbformat": 4,
 "nbformat_minor": 0
}
