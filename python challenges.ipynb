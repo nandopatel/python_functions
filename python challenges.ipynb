{
 "cells": [
  {
   "cell_type": "code",
   "execution_count": 19,
   "metadata": {
    "collapsed": false
   },
   "outputs": [
    {
     "data": {
      "text/plain": [
       "\"Challenge 1\\nWrite a program that:\\nasks the user to input their age\\noutputs 'Your age is: ' followed by their age\\n\""
      ]
     },
     "execution_count": 19,
     "metadata": {},
     "output_type": "execute_result"
    }
   ],
   "source": [
    "'''Challenge 1\n",
    "Write a program that:\n",
    "asks the user to input their age\n",
    "outputs 'Your age is: ' followed by their age\n",
    "'''"
   ]
  },
  {
   "cell_type": "code",
   "execution_count": 3,
   "metadata": {
    "collapsed": false
   },
   "outputs": [
    {
     "name": "stdout",
     "output_type": "stream",
     "text": [
      "What is your age? 15\n",
      "Your age is 15.\n"
     ]
    }
   ],
   "source": [
    "age=raw_input(\"What is your age? \")\n",
    "print(\"Your age is {}.\".format(age))"
   ]
  },
  {
   "cell_type": "code",
   "execution_count": 23,
   "metadata": {
    "collapsed": false
   },
   "outputs": [
    {
     "data": {
      "text/plain": [
       "'Challenge 2\\nWrite a program that:\\nasks the user to input two numbers \\ncalculates the average \\noutputs the result\\n'"
      ]
     },
     "execution_count": 23,
     "metadata": {},
     "output_type": "execute_result"
    }
   ],
   "source": [
    "'''Challenge 2\n",
    "Write a program that:\n",
    "asks the user to input two numbers \n",
    "calculates the average \n",
    "outputs the result\n",
    "'''"
   ]
  },
  {
   "cell_type": "code",
   "execution_count": 1,
   "metadata": {
    "collapsed": false
   },
   "outputs": [
    {
     "name": "stdout",
     "output_type": "stream",
     "text": [
      "Enter the 1st number to find the mean: 560\n",
      "Enter the 2nd number to find the mean: 705\n",
      "632.5\n"
     ]
    }
   ],
   "source": [
    "def average(num1,num2):\n",
    "    mean = (int(num1)+int(num2))/ 2.0\n",
    "    if (mean).is_integer():\n",
    "        return int(mean)\n",
    "    else:\n",
    "        return mean\n",
    "\n",
    "num1 = raw_input(\"Enter the 1st number to find the mean: \")\n",
    "num2 = raw_input(\"Enter the 2nd number to find the mean: \")\n",
    "print average(num1,num2)"
   ]
  },
  {
   "cell_type": "code",
   "execution_count": 27,
   "metadata": {
    "collapsed": false
   },
   "outputs": [
    {
     "data": {
      "text/plain": [
       "'Challenge 3\\n\\nWrite a program that:\\nasks the user to input the width and height of a rectangle\\ncalculates the area\\noutputs the result\\n'"
      ]
     },
     "execution_count": 27,
     "metadata": {},
     "output_type": "execute_result"
    }
   ],
   "source": [
    "'''Challenge 3\n",
    "Write a program that:\n",
    "asks the user to input the width and height of a rectangle\n",
    "calculates the area\n",
    "outputs the result\n",
    "'''"
   ]
  },
  {
   "cell_type": "code",
   "execution_count": 8,
   "metadata": {
    "collapsed": false
   },
   "outputs": [
    {
     "name": "stdout",
     "output_type": "stream",
     "text": [
      "Enter the length of a rectangle: 123\n",
      "Enter the width of a rectangle: 235\n"
     ]
    },
    {
     "data": {
      "text/plain": [
       "28905"
      ]
     },
     "execution_count": 8,
     "metadata": {},
     "output_type": "execute_result"
    }
   ],
   "source": [
    "def area_of_rectangle(l,w):\n",
    "    area = int(l)*int(w)\n",
    "    return area\n",
    "length = raw_input(\"Enter the length of a rectangle: \")\n",
    "width = raw_input(\"Enter the width of a rectangle: \")\n",
    "area_of_rectangle(length,width)"
   ]
  },
  {
   "cell_type": "code",
   "execution_count": null,
   "metadata": {
    "collapsed": true
   },
   "outputs": [],
   "source": [
    "'''Challenge 4\n",
    "Write a program that:\n",
    "asks the user to input two numbers\n",
    "divides the first number by the second number\n",
    "outputs the result\n",
    "'''"
   ]
  },
  {
   "cell_type": "code",
   "execution_count": 2,
   "metadata": {
    "collapsed": false
   },
   "outputs": [
    {
     "name": "stdout",
     "output_type": "stream",
     "text": [
      "Enter the 1st number to divide: 50\n",
      "Enter the 2nd number to divide: 10\n"
     ]
    },
    {
     "data": {
      "text/plain": [
       "5"
      ]
     },
     "execution_count": 2,
     "metadata": {},
     "output_type": "execute_result"
    }
   ],
   "source": [
    "def divide(x,y):\n",
    "    return int(x) / int(y)\n",
    "num1 = raw_input(\"Enter the 1st number to divide: \")\n",
    "num2 = raw_input(\"Enter the 2nd number to divide: \")    \n",
    "divide(num1,num2)"
   ]
  },
  {
   "cell_type": "code",
   "execution_count": 3,
   "metadata": {
    "collapsed": false
   },
   "outputs": [
    {
     "data": {
      "text/plain": [
       "'Challenge 5\\n\\nWrite a program that:\\nasks the user their name\\nasks what their favourite subject is (using their name in the question)\\nresponds to their answer by saying that you like that subject as well\\n'"
      ]
     },
     "execution_count": 3,
     "metadata": {},
     "output_type": "execute_result"
    }
   ],
   "source": [
    "'''Challenge 5\n",
    "Write a program that:\n",
    "asks the user their name\n",
    "asks what their favourite subject is (using their name in the question)\n",
    "responds to their answer by saying that you like that subject as well\n",
    "'''"
   ]
  },
  {
   "cell_type": "code",
   "execution_count": 9,
   "metadata": {
    "collapsed": false
   },
   "outputs": [
    {
     "name": "stdout",
     "output_type": "stream",
     "text": [
      "What is your name?: anand\n",
      "What do you like doing as a hobby anand? memes\n",
      "I like memes too.\n"
     ]
    }
   ],
   "source": [
    "name=raw_input(\"What is your name?: \")\n",
    "hobby=raw_input(\"What do you like doing as a hobby {}? \".format(name))\n",
    "print(\"I like {} too.\".format(hobby))"
   ]
  },
  {
   "cell_type": "code",
   "execution_count": null,
   "metadata": {
    "collapsed": true
   },
   "outputs": [],
   "source": [
    "'''Challenge 6\n",
    "Write a program that:\n",
    "asks the user their name\n",
    "if it is the same as your name, outputs 'You’re cool', otherwise outputs 'Nice to meet you'\n",
    "'''"
   ]
  },
  {
   "cell_type": "code",
   "execution_count": 3,
   "metadata": {
    "collapsed": false
   },
   "outputs": [
    {
     "name": "stdout",
     "output_type": "stream",
     "text": [
      "What is your name?: Anand\n",
      "You are cool\n"
     ]
    }
   ],
   "source": [
    "name=raw_input(\"What is your name?: \")\n",
    "if str(name) == \"Anand\":\n",
    "    print('You are cool')\n",
    "else:\n",
    "    print('Nice to meet you')"
   ]
  },
  {
   "cell_type": "code",
   "execution_count": 4,
   "metadata": {
    "collapsed": false
   },
   "outputs": [
    {
     "data": {
      "text/plain": [
       "'Challenge 7\\n\\nWrite a program that:\\nasks the user how long on average they spend watching TV each day\\nif it is less than 2 hours, outputs \\xe2\\x80\\x98That shouldn\\xe2\\x80\\x99t rot your brain too much\\xe2\\x80\\x99; if it is less than 4 hours per day,\\noutputs \\xe2\\x80\\x98Aren\\xe2\\x80\\x99t you getting square eyes?\\xe2\\x80\\x99; otherwise outputs \\xe2\\x80\\x98Fresh air beats channel flicking\\xe2\\x80\\x99\\n'"
      ]
     },
     "execution_count": 4,
     "metadata": {},
     "output_type": "execute_result"
    }
   ],
   "source": [
    "'''Challenge 7\n",
    "Write a program that:\n",
    "asks the user how long on average they spend watching TV each day\n",
    "if it is less than 2 hours, outputs ‘That shouldn’t rot your brain too much’; if it is less than 4 hours per day,\n",
    "outputs ‘Aren’t you getting square eyes?’; otherwise outputs ‘Fresh air beats channel flicking’\n",
    "'''"
   ]
  },
  {
   "cell_type": "code",
   "execution_count": 11,
   "metadata": {
    "collapsed": false
   },
   "outputs": [
    {
     "name": "stdout",
     "output_type": "stream",
     "text": [
      "How many hours of tv do you watch a day?: 2\n",
      "That shouldn’t rot your brain too much\n"
     ]
    }
   ],
   "source": [
    "hrsoftv = int(raw_input(\"How many hours of tv do you watch a day?: \"))\n",
    "if hrsoftv <= 2:\n",
    "    print(\"That shouldn’t rot your brain too much\")\n",
    "elif hrsoftv <= 4:\n",
    "    print(\"Aren’t you getting square eyes?\")\n",
    "else:\n",
    "    print(\"Fresh air beats channel flicking\")"
   ]
  },
  {
   "cell_type": "code",
   "execution_count": 12,
   "metadata": {
    "collapsed": false
   },
   "outputs": [
    {
     "data": {
      "text/plain": [
       "'Challenge 8\\n\\nWrite a program that:\\nconverts and outputs marks into grades, using the following data:\\nGreater than or equal to 75 = A\\nGreater than or equal to 60 = B\\nGreater than or equal to 35 = C\\nless than 35 = D\\n\\n'"
      ]
     },
     "execution_count": 12,
     "metadata": {},
     "output_type": "execute_result"
    }
   ],
   "source": [
    "'''Challenge 8\n",
    "Write a program that:\n",
    "converts and outputs marks into grades, using the following data:\n",
    "Greater than or equal to 75 = A\n",
    "Greater than or equal to 60 = B\n",
    "Greater than or equal to 35 = C\n",
    "less than 35 = D\n",
    "\n",
    "'''"
   ]
  },
  {
   "cell_type": "code",
   "execution_count": 13,
   "metadata": {
    "collapsed": true
   },
   "outputs": [],
   "source": [
    "def gradeconvert(percentage):\n",
    "    if percentage >= 75:\n",
    "        print 'A'\n",
    "    elif percentage >= 60:\n",
    "        print 'B'\n",
    "    elif percentage >= 35:\n",
    "        print 'C'\n",
    "    else:\n",
    "        print 'D'"
   ]
  },
  {
   "cell_type": "code",
   "execution_count": null,
   "metadata": {
    "collapsed": false
   },
   "outputs": [],
   "source": [
    "'''Challenge 9\n",
    "Write a program that:\n",
    "asks the user to name one of the Olympic Values (Respect, Excellence and Friendship)\n",
    "if they correctly name one, output 'That’s correct‘, otherwise output 'Try again'\n",
    "'''"
   ]
  },
  {
   "cell_type": "code",
   "execution_count": 22,
   "metadata": {
    "collapsed": false
   },
   "outputs": [
    {
     "name": "stdout",
     "output_type": "stream",
     "text": [
      "Name an olympic value: friendship\n",
      "That’s correct\n"
     ]
    }
   ],
   "source": [
    "usrinp = raw_input(\"Name an olympic value: \")\n",
    "ovalue = [\"respect\",\"excellence\",\"friendship\"]\n",
    "if usrinp in ovalue:\n",
    "    print 'That’s correct'\n",
    "else:\n",
    "    print 'Try again'\n"
   ]
  },
  {
   "cell_type": "code",
   "execution_count": 1,
   "metadata": {
    "collapsed": false
   },
   "outputs": [
    {
     "data": {
      "text/plain": [
       "'Challenge 10\\n\\nWrite a game that:\\nallows the user to play rock, paper, scissors against the computer\\nmust display the computer\\xe2\\x80\\x99s choice and show the result of the game\\n'"
      ]
     },
     "execution_count": 1,
     "metadata": {},
     "output_type": "execute_result"
    }
   ],
   "source": [
    "'''Challenge 10\n",
    "Write a game that:\n",
    "allows the user to play rock, paper, scissors against the computer\n",
    "must display the computer’s choice and show the result of the game\n",
    "'''"
   ]
  },
  {
   "cell_type": "code",
   "execution_count": 2,
   "metadata": {
    "collapsed": false
   },
   "outputs": [
    {
     "name": "stdout",
     "output_type": "stream",
     "text": [
      "Choose r, p or s: p\n",
      "1\n",
      "You chose p and paper Wins!\n"
     ]
    }
   ],
   "source": [
    "from random import randint\n",
    "\n",
    "    \n",
    "def rpsusrchoice():\n",
    "    computerinp = ''\n",
    "    choice = raw_input(\"Choose r, p or s: \")\n",
    "    if choice == 'r' or choice == 'p' or choice == 's':\n",
    "        \n",
    "        randchoice = randint(1,3)\n",
    "        if randchoice == 1:\n",
    "            print 1\n",
    "            computerinp = 'r'\n",
    "            rpschecking(choice,computerinp)            \n",
    "        elif randchoice == 2:\n",
    "            \n",
    "            \n",
    "            computerinp = 'p'\n",
    "        \n",
    "            rpschecking(choice,computerinp)\n",
    "        elif randchoice == 3:\n",
    "            print 3\n",
    "            computerinp = 's'\n",
    "            rpschecking(choice,computerinp)\n",
    "        else:\n",
    "            computerinp = 's'\n",
    "            rpschecking(choice,computerinp)\n",
    "    else:\n",
    "        print 'Enter only r,p or s'\n",
    "\n",
    "\n",
    "\n",
    "def rpschecking(str1,str2):\n",
    " \n",
    "    if (str1 == 's' and str2 == 'r') :\n",
    "        print \"You chose {} and rock Wins!\".format(str1)\n",
    "    elif (str1 == 's' and str2 == 'p'):\n",
    "        print \"You chose {} and scissors Wins!\".format(str1)\n",
    "    elif (str1 == 'p' and str2 == 'r'):\n",
    "        print \"You chose {} and paper Wins!\".format(str1)\n",
    "    elif str1 == str2:\n",
    "        print \"It's a Tie! Nobody Wins!\".format(str1)\n",
    "    elif (str2 == 's' and str1 == 'p'):\n",
    "        print \"You chose {} and scissors Wins!\".format(str1)\n",
    "    elif (str2 == 'p' and str1 == 'r'):\n",
    "        return \"You chose {} and paper Wins!\".format(str1)\n",
    "    elif (str2 == 's' and str1 == 'r'):\n",
    "        print  \"You chose {} and rock Wins!\".format(str1)\n",
    "    else:\n",
    "        print \"Something went wrong\"\n",
    "   \n",
    "    \n",
    "rpsusrchoice()"
   ]
  },
  {
   "cell_type": "code",
   "execution_count": null,
   "metadata": {
    "collapsed": false
   },
   "outputs": [],
   "source": [
    "rpschecking('r','p')"
   ]
  },
  {
   "cell_type": "code",
   "execution_count": 8,
   "metadata": {
    "collapsed": false
   },
   "outputs": [
    {
     "data": {
      "text/plain": [
       "'Challenge 11\\n\\nWrite a program that: \\nasks the user to input a sentence\\ncalculates and outputs how many characters there are in the sentence\\n'"
      ]
     },
     "execution_count": 8,
     "metadata": {},
     "output_type": "execute_result"
    }
   ],
   "source": [
    "'''Challenge 11\n",
    "Write a program that: \n",
    "asks the user to input a sentence\n",
    "calculates and outputs how many characters there are in the sentence\n",
    "'''"
   ]
  },
  {
   "cell_type": "code",
   "execution_count": 8,
   "metadata": {
    "collapsed": false
   },
   "outputs": [
    {
     "name": "stdout",
     "output_type": "stream",
     "text": [
      "Enter a word or sentence: 3243235234234\n",
      "That string had a length of 13\n"
     ]
    }
   ],
   "source": [
    "string1 = raw_input(\"Enter a word or sentence: \")\n",
    "print \"That string had a length of\", len(string1)\n",
    "#list(string1)\n",
    "#len(list(string1))"
   ]
  },
  {
   "cell_type": "code",
   "execution_count": null,
   "metadata": {
    "collapsed": true,
    "scrolled": true
   },
   "outputs": [],
   "source": [
    "'''\n",
    "Challenge 12\n",
    "Write a program that: \n",
    "asks the user to input a sentence\n",
    "outputs the sentence in upper case\n",
    "'''"
   ]
  },
  {
   "cell_type": "code",
   "execution_count": 2,
   "metadata": {
    "collapsed": false,
    "scrolled": true
   },
   "outputs": [
    {
     "name": "stdout",
     "output_type": "stream",
     "text": [
      "Enter a word or sentence: 2okjiuhasefdiasdf\n",
      "2OKJIUHASEFDIASDF\n"
     ]
    }
   ],
   "source": [
    "string1 = raw_input(\"Enter a word or sentence: \")\n",
    "print string1.upper()"
   ]
  },
  {
   "cell_type": "code",
   "execution_count": null,
   "metadata": {
    "collapsed": true
   },
   "outputs": [],
   "source": [
    "'''Challenge 13\n",
    "Write a program that:\n",
    "asks the user to input a sentence\n",
    "asks the user to input:\n",
    "the word they want to replace \n",
    "the word they want to replace it with\n",
    "outputs the new sentence \n",
    "'''"
   ]
  },
  {
   "cell_type": "code",
   "execution_count": 3,
   "metadata": {
    "collapsed": false
   },
   "outputs": [
    {
     "name": "stdout",
     "output_type": "stream",
     "text": [
      "Enter a sentence: Hi I like cheese\n",
      "Enter the word you want to replace cheese\n",
      "Enter the word you want to replace it with apples\n",
      "Hi I like apples\n"
     ]
    }
   ],
   "source": [
    "string1 = raw_input(\"Enter a sentence: \")\n",
    "rep1 = raw_input(\"Enter the word you want to replace \")\n",
    "rep2 = raw_input(\"Enter the word you want to replace it with \")\n",
    "print string1.replace(rep1,rep2)"
   ]
  },
  {
   "cell_type": "code",
   "execution_count": 5,
   "metadata": {
    "collapsed": false
   },
   "outputs": [
    {
     "data": {
      "text/plain": [
       "\"Challenge 14\\nWrite a program that:\\nasks the user to input a sentence \\noutputs the number of times the word 'the' occurs in it\\n\""
      ]
     },
     "execution_count": 5,
     "metadata": {},
     "output_type": "execute_result"
    }
   ],
   "source": [
    "'''Challenge 14\n",
    "Write a program that:\n",
    "asks the user to input a sentence \n",
    "outputs the number of times the word 'the' occurs in it\n",
    "'''"
   ]
  },
  {
   "cell_type": "code",
   "execution_count": 19,
   "metadata": {
    "collapsed": false
   },
   "outputs": [
    {
     "name": "stdout",
     "output_type": "stream",
     "text": [
      "Enter a sentence: cool\n",
      "The word 'the' occurs 0 times.\n"
     ]
    }
   ],
   "source": [
    "def formatting_word_count(n):\n",
    "    if n == 1:\n",
    "        return \"time\"\n",
    "    else:\n",
    "        return \"times\"\n",
    "\n",
    "string1 = raw_input(\"Enter a sentence: \")\n",
    "lst1 = string1.split()\n",
    "print \"The word 'the' occurs {} {}.\".format(lst1.count(\"the\"),formatting_word_count(lst1.count(\"the\")))"
   ]
  },
  {
   "cell_type": "code",
   "execution_count": 20,
   "metadata": {
    "collapsed": false
   },
   "outputs": [
    {
     "data": {
      "text/plain": [
       "'Challenge 15\\nWrite a program that:\\nasks the user to input a sentence\\noutputs the sentence in lower case\\n'"
      ]
     },
     "execution_count": 20,
     "metadata": {},
     "output_type": "execute_result"
    }
   ],
   "source": [
    "'''Challenge 15\n",
    "Write a program that:\n",
    "asks the user to input a sentence\n",
    "outputs the sentence in lower case\n",
    "'''"
   ]
  },
  {
   "cell_type": "code",
   "execution_count": 22,
   "metadata": {
    "collapsed": false
   },
   "outputs": [
    {
     "name": "stdout",
     "output_type": "stream",
     "text": [
      "Enter a sentence: IUAIOFiubafaoiuBOIBAOIF\n",
      "iuaiofiubafaoiuboibaoif\n"
     ]
    }
   ],
   "source": [
    "string1 = raw_input(\"Enter a sentence: \")\n",
    "print string1.lower()"
   ]
  },
  {
   "cell_type": "code",
   "execution_count": 23,
   "metadata": {
    "collapsed": false
   },
   "outputs": [
    {
     "data": {
      "text/plain": [
       "'Challenge 16\\nWrite a program that:\\noutputs all numbers between 1 and 10\\nTip:    You must use a For Loop for this challenge\\n'"
      ]
     },
     "execution_count": 23,
     "metadata": {},
     "output_type": "execute_result"
    }
   ],
   "source": [
    "'''Challenge 16\n",
    "Write a program that:\n",
    "outputs all numbers between 1 and 10\n",
    "Tip:    You must use a For Loop for this challenge\n",
    "'''"
   ]
  },
  {
   "cell_type": "code",
   "execution_count": 25,
   "metadata": {
    "collapsed": false
   },
   "outputs": [
    {
     "name": "stdout",
     "output_type": "stream",
     "text": [
      "[1, 2, 3, 4, 5, 6, 7, 8, 9, 10]\n"
     ]
    }
   ],
   "source": [
    "print [x for x in range(1,11)]"
   ]
  },
  {
   "cell_type": "code",
   "execution_count": 30,
   "metadata": {
    "collapsed": false,
    "scrolled": true
   },
   "outputs": [
    {
     "name": "stdout",
     "output_type": "stream",
     "text": [
      "1\n",
      "2\n",
      "3\n",
      "4\n",
      "5\n",
      "6\n",
      "7\n",
      "8\n",
      "9\n",
      "10\n"
     ]
    }
   ],
   "source": [
    "for x in range(1,11):\n",
    "    print x\n",
    "    "
   ]
  },
  {
   "cell_type": "code",
   "execution_count": 29,
   "metadata": {
    "collapsed": false
   },
   "outputs": [
    {
     "name": "stdout",
     "output_type": "stream",
     "text": [
      "[1, 2, 3, 4, 5, 6, 7, 8, 9, 10]\n"
     ]
    }
   ],
   "source": [
    "print (range(1,11))"
   ]
  },
  {
   "cell_type": "code",
   "execution_count": 31,
   "metadata": {
    "collapsed": false
   },
   "outputs": [
    {
     "data": {
      "text/plain": [
       "'Challenge 17\\nWrite a program that:\\noutputs all odd numbers between \\n1 and 99\\nTip:     You must use a For Loop for this challenge.\\n'"
      ]
     },
     "execution_count": 31,
     "metadata": {},
     "output_type": "execute_result"
    }
   ],
   "source": [
    "'''Challenge 17\n",
    "Write a program that:\n",
    "outputs all odd numbers between \u000b",
    "1 and 99\n",
    "Tip:     You must use a For Loop for this challenge.\n",
    "'''"
   ]
  },
  {
   "cell_type": "code",
   "execution_count": 32,
   "metadata": {
    "collapsed": false
   },
   "outputs": [
    {
     "name": "stdout",
     "output_type": "stream",
     "text": [
      "[1, 2, 3, 4, 5, 6, 7, 8, 9, 10, 11, 12, 13, 14, 15, 16, 17, 18, 19, 20, 21, 22, 23, 24, 25, 26, 27, 28, 29, 30, 31, 32, 33, 34, 35, 36, 37, 38, 39, 40, 41, 42, 43, 44, 45, 46, 47, 48, 49, 50, 51, 52, 53, 54, 55, 56, 57, 58, 59, 60, 61, 62, 63, 64, 65, 66, 67, 68, 69, 70, 71, 72, 73, 74, 75, 76, 77, 78, 79, 80, 81, 82, 83, 84, 85, 86, 87, 88, 89, 90, 91, 92, 93, 94, 95, 96, 97, 98, 99]\n"
     ]
    }
   ],
   "source": [
    "print [x for x in range(1,100)]"
   ]
  },
  {
   "cell_type": "code",
   "execution_count": 33,
   "metadata": {
    "collapsed": false,
    "scrolled": true
   },
   "outputs": [
    {
     "name": "stdout",
     "output_type": "stream",
     "text": [
      "1\n",
      "2\n",
      "3\n",
      "4\n",
      "5\n",
      "6\n",
      "7\n",
      "8\n",
      "9\n",
      "10\n",
      "11\n",
      "12\n",
      "13\n",
      "14\n",
      "15\n",
      "16\n",
      "17\n",
      "18\n",
      "19\n",
      "20\n",
      "21\n",
      "22\n",
      "23\n",
      "24\n",
      "25\n",
      "26\n",
      "27\n",
      "28\n",
      "29\n",
      "30\n",
      "31\n",
      "32\n",
      "33\n",
      "34\n",
      "35\n",
      "36\n",
      "37\n",
      "38\n",
      "39\n",
      "40\n",
      "41\n",
      "42\n",
      "43\n",
      "44\n",
      "45\n",
      "46\n",
      "47\n",
      "48\n",
      "49\n",
      "50\n",
      "51\n",
      "52\n",
      "53\n",
      "54\n",
      "55\n",
      "56\n",
      "57\n",
      "58\n",
      "59\n",
      "60\n",
      "61\n",
      "62\n",
      "63\n",
      "64\n",
      "65\n",
      "66\n",
      "67\n",
      "68\n",
      "69\n",
      "70\n",
      "71\n",
      "72\n",
      "73\n",
      "74\n",
      "75\n",
      "76\n",
      "77\n",
      "78\n",
      "79\n",
      "80\n",
      "81\n",
      "82\n",
      "83\n",
      "84\n",
      "85\n",
      "86\n",
      "87\n",
      "88\n",
      "89\n",
      "90\n",
      "91\n",
      "92\n",
      "93\n",
      "94\n",
      "95\n",
      "96\n",
      "97\n",
      "98\n",
      "99\n"
     ]
    }
   ],
   "source": [
    "for x in range(1,100):\n",
    "    print x"
   ]
  },
  {
   "cell_type": "code",
   "execution_count": 34,
   "metadata": {
    "collapsed": false
   },
   "outputs": [
    {
     "name": "stdout",
     "output_type": "stream",
     "text": [
      "[1, 2, 3, 4, 5, 6, 7, 8, 9, 10, 11, 12, 13, 14, 15, 16, 17, 18, 19, 20, 21, 22, 23, 24, 25, 26, 27, 28, 29, 30, 31, 32, 33, 34, 35, 36, 37, 38, 39, 40, 41, 42, 43, 44, 45, 46, 47, 48, 49, 50, 51, 52, 53, 54, 55, 56, 57, 58, 59, 60, 61, 62, 63, 64, 65, 66, 67, 68, 69, 70, 71, 72, 73, 74, 75, 76, 77, 78, 79, 80, 81, 82, 83, 84, 85, 86, 87, 88, 89, 90, 91, 92, 93, 94, 95, 96, 97, 98, 99]\n"
     ]
    }
   ],
   "source": [
    "print range(1,100)"
   ]
  },
  {
   "cell_type": "code",
   "execution_count": 36,
   "metadata": {
    "collapsed": false
   },
   "outputs": [
    {
     "data": {
      "text/plain": [
       "'Challenge 18\\nWrite a program that:\\nasks the user to input a number\\noutputs the times table for that number\\nTip:     You must use a For Loop for this challenge.\\n'"
      ]
     },
     "execution_count": 36,
     "metadata": {},
     "output_type": "execute_result"
    }
   ],
   "source": [
    "'''Challenge 18\n",
    "Write a program that:\n",
    "asks the user to input a number\n",
    "outputs the times table for that number\n",
    "Tip:     You must use a For Loop for this challenge.\n",
    "'''"
   ]
  },
  {
   "cell_type": "code",
   "execution_count": 39,
   "metadata": {
    "collapsed": false
   },
   "outputs": [
    {
     "name": "stdout",
     "output_type": "stream",
     "text": [
      "Enter number a multiplication table: 1234562\n",
      "1 x 1234562 = 1234562\n",
      "2 x 1234562 = 2469124\n",
      "3 x 1234562 = 3703686\n",
      "4 x 1234562 = 4938248\n",
      "5 x 1234562 = 6172810\n",
      "6 x 1234562 = 7407372\n",
      "7 x 1234562 = 8641934\n",
      "8 x 1234562 = 9876496\n",
      "9 x 1234562 = 11111058\n",
      "10 x 1234562 = 12345620\n",
      "11 x 1234562 = 13580182\n",
      "12 x 1234562 = 14814744\n"
     ]
    }
   ],
   "source": [
    "table = int(raw_input(\"Enter number a multiplication table: \"))\n",
    "for x in range(1,13):\n",
    "    print \"{} x {} = {}\".format(x,table,x*table)\n",
    " "
   ]
  },
  {
   "cell_type": "code",
   "execution_count": 40,
   "metadata": {
    "collapsed": false
   },
   "outputs": [
    {
     "data": {
      "text/plain": [
       "'Challenge 19\\nWrite a program that:\\nasks the user to input a number\\noutputs the times table for that number\\nstarts again every time it finishes\\n'"
      ]
     },
     "execution_count": 40,
     "metadata": {},
     "output_type": "execute_result"
    }
   ],
   "source": [
    "'''Challenge 19\n",
    "Write a program that:\n",
    "asks the user to input a number\n",
    "outputs the times table for that number\n",
    "starts again every time it finishes\n",
    "'''"
   ]
  },
  {
   "cell_type": "code",
   "execution_count": 41,
   "metadata": {
    "collapsed": false
   },
   "outputs": [
    {
     "data": {
      "text/plain": [
       "'Challenge 20\\nWrite a program that:\\nasks the user to input a number and repeats until they guess the number 7 \\ncongratulate the user with a \\xe2\\x80\\x98Well Done\\xe2\\x80\\x99 message when they guess correctly\\n'"
      ]
     },
     "execution_count": 41,
     "metadata": {},
     "output_type": "execute_result"
    }
   ],
   "source": [
    "'''Challenge 20\n",
    "Write a program that:\n",
    "asks the user to input a number and repeats until they guess the number 7 \n",
    "congratulate the user with a ‘Well Done’ message when they guess correctly\n",
    "'''"
   ]
  },
  {
   "cell_type": "code",
   "execution_count": 1,
   "metadata": {
    "collapsed": false
   },
   "outputs": [
    {
     "name": "stdout",
     "output_type": "stream",
     "text": [
      "Try to guess the number between 1,10: 4\n",
      "Try again\n",
      "Try to guess the number between 1,10: 7\n",
      "Well Done! You guessed my number\n"
     ]
    }
   ],
   "source": [
    "def guessmynumber():\n",
    "    userchoice = int(raw_input(\"Try to guess the number between 1,10: \"))\n",
    "    if userchoice == 7:\n",
    "        print \"Well Done! You guessed my number\"\n",
    "    else:\n",
    "        print \"Try again\"\n",
    "        guessmynumber()\n",
    "guessmynumber()"
   ]
  },
  {
   "cell_type": "code",
   "execution_count": 2,
   "metadata": {
    "collapsed": false
   },
   "outputs": [
    {
     "data": {
      "text/plain": [
       "'Challenge 21\\nWrite a program that converts between centimetres, and inches and vice versa, by:\\nasking the user to input a number\\nasking the user to choose between converting from centimetres to inches or from inches to centimetres\\ncalculating and outputting the result using functions\\nTip:\\t1 inch = 2.54 cm   \\n\\t1 cm = 0.393700787 inches\\n'"
      ]
     },
     "execution_count": 2,
     "metadata": {},
     "output_type": "execute_result"
    }
   ],
   "source": [
    "'''Challenge 21\n",
    "Write a program that converts between centimetres, and inches and vice versa, by:\n",
    "asking the user to input a number\n",
    "asking the user to choose between converting from centimetres to inches or from inches to centimetres\n",
    "calculating and outputting the result using functions\n",
    "Tip:\t1 inch = 2.54 cm   \n",
    "\t1 cm = 0.393700787 inches\n",
    "'''"
   ]
  },
  {
   "cell_type": "code",
   "execution_count": 9,
   "metadata": {
    "collapsed": true
   },
   "outputs": [],
   "source": [
    "def cmtoinch(a=''):\n",
    "    if a=='':\n",
    "        cm=int(raw_input(\"Convert cm to inches: \"))\n",
    "        inches = float(cm) * 0.393\n",
    "        print(\"{} cm equals {} inches\".format(cm,inches))\n",
    "\n",
    "def inchtocm(a=''):\n",
    "    if a=='':\n",
    "        inch=int(raw_input(\"Convert inches to cm: \"))\n",
    "        cm = float(inch) * 2.54\n",
    "        print(\"{} inches equals {} cm\".format(inch,cm))\n"
   ]
  },
  {
   "cell_type": "code",
   "execution_count": 10,
   "metadata": {
    "collapsed": false
   },
   "outputs": [
    {
     "name": "stdout",
     "output_type": "stream",
     "text": [
      "Convert cm to inches: 50000\n",
      "50000 cm equals 19650.0 inches\n"
     ]
    }
   ],
   "source": [
    "cmtoinch()"
   ]
  },
  {
   "cell_type": "code",
   "execution_count": 11,
   "metadata": {
    "collapsed": false
   },
   "outputs": [
    {
     "name": "stdout",
     "output_type": "stream",
     "text": [
      "Convert inches to cm: 23425\n",
      "23425 inches equals 59499.5 cm\n"
     ]
    }
   ],
   "source": [
    "inchtocm()"
   ]
  },
  {
   "cell_type": "code",
   "execution_count": 9,
   "metadata": {
    "collapsed": true
   },
   "outputs": [],
   "source": [
    "dct={}"
   ]
  },
  {
   "cell_type": "code",
   "execution_count": 15,
   "metadata": {
    "collapsed": false
   },
   "outputs": [],
   "source": [
    "dct[('in','in')]=lambda cm: float(cm) * 0.393"
   ]
  },
  {
   "cell_type": "code",
   "execution_count": 16,
   "metadata": {
    "collapsed": false
   },
   "outputs": [
    {
     "data": {
      "text/plain": [
       "1.965"
      ]
     },
     "execution_count": 16,
     "metadata": {},
     "output_type": "execute_result"
    }
   ],
   "source": [
    "dct[('cm','in')](5)"
   ]
  },
  {
   "cell_type": "code",
   "execution_count": 2,
   "metadata": {
    "collapsed": false
   },
   "outputs": [],
   "source": [
    "dct[('in','cm')]=lambda inch: float(inch) * 2.54"
   ]
  },
  {
   "cell_type": "code",
   "execution_count": 22,
   "metadata": {
    "collapsed": false
   },
   "outputs": [
    {
     "data": {
      "text/plain": [
       "12.7"
      ]
     },
     "execution_count": 21,
     "metadata": {},
     "output_type": "execute_result"
    }
   ],
   "source": [
    "dct[('in','cm')](5)"
   ]
  },
  {
   "cell_type": "code",
   "execution_count": 23,
   "metadata": {
    "collapsed": false
   },
   "outputs": [
    {
     "data": {
      "text/plain": [
       "[(('in', 'cm'), <function __main__.<lambda>>),\n",
       " (('cm', 'in'), <function __main__.<lambda>>)]"
      ]
     },
     "execution_count": 23,
     "metadata": {},
     "output_type": "execute_result"
    }
   ],
   "source": [
    "dct.items()"
   ]
  },
  {
   "cell_type": "code",
   "execution_count": 24,
   "metadata": {
    "collapsed": false
   },
   "outputs": [
    {
     "data": {
      "text/plain": [
       "'Challenge 22\\nWrite a program that:\\nasks the user for the distance (in metres) \\nasks the user for the time in seconds that a journey was completed in \\ncalculates and outputs the average speed using a function\\nTip:\\tSpeed = Distance / Time\\n'"
      ]
     },
     "execution_count": 24,
     "metadata": {},
     "output_type": "execute_result"
    }
   ],
   "source": [
    "'''Challenge 22\n",
    "Write a program that:\n",
    "asks the user for the distance (in metres) \n",
    "asks the user for the time in seconds that a journey was completed in \n",
    "calculates and outputs the average speed using a function\n",
    "Tip:\tSpeed = Distance / Time\n",
    "'''"
   ]
  },
  {
   "cell_type": "code",
   "execution_count": 31,
   "metadata": {
    "collapsed": false
   },
   "outputs": [
    {
     "name": "stdout",
     "output_type": "stream",
     "text": [
      "Enter distance travelled: 123\n",
      "Enter time taken: 40\n"
     ]
    },
    {
     "data": {
      "text/plain": [
       "'3.075 m/s'"
      ]
     },
     "execution_count": 31,
     "metadata": {},
     "output_type": "execute_result"
    }
   ],
   "source": [
    "def distspeed(d,t):\n",
    "    speed = float(d)/float(t)\n",
    "    return \"{} m/s\".format(speed)\n",
    "dist = raw_input(\"Enter distance travelled: \")\n",
    "time = raw_input(\"Enter time taken: \")\n",
    "distspeed(dist,time)\n"
   ]
  },
  {
   "cell_type": "code",
   "execution_count": null,
   "metadata": {
    "collapsed": false
   },
   "outputs": [],
   "source": [
    "dct={}"
   ]
  },
  {
   "cell_type": "code",
   "execution_count": 41,
   "metadata": {
    "collapsed": true
   },
   "outputs": [],
   "source": [
    "dct[('dt','tm','sp')]=lambda dt,tm: float(dt) / float(tm)"
   ]
  },
  {
   "cell_type": "code",
   "execution_count": 44,
   "metadata": {
    "collapsed": false
   },
   "outputs": [
    {
     "data": {
      "text/plain": [
       "0.0008565520110617574"
      ]
     },
     "execution_count": 46,
     "metadata": {},
     "output_type": "execute_result"
    }
   ],
   "source": [
    "dct[('dt','tm','sp')](70,81723)"
   ]
  },
  {
   "cell_type": "code",
   "execution_count": 47,
   "metadata": {
    "collapsed": false
   },
   "outputs": [
    {
     "data": {
      "text/plain": [
       "'Challenge 23\\nA gardener needs to buy some turf for a project they are working on. The garden is rectangular with a circular flower bed in the middle. \\nWrite a program that:\\nasks the user for the dimensions of the lawn and the radius of the circle (in metres)\\nuses a function to calculate and output the amount of turf needed\\n'"
      ]
     },
     "execution_count": 47,
     "metadata": {},
     "output_type": "execute_result"
    }
   ],
   "source": [
    "'''Challenge 23\n",
    "A gardener needs to buy some turf for a project they are working on. The garden is rectangular with a circular flower bed in the middle. \n",
    "Write a program that:\n",
    "asks the user for the dimensions of the lawn and the radius of the circle (in metres)\n",
    "uses a function to calculate and output the amount of turf needed\n",
    "'''"
   ]
  },
  {
   "cell_type": "code",
   "execution_count": 4,
   "metadata": {
    "collapsed": false
   },
   "outputs": [
    {
     "name": "stdout",
     "output_type": "stream",
     "text": [
      "Enter length of garden: 234\n",
      "Enter width of garden: 35\n",
      "Enter radius of circular flower bed: 7\n",
      "8343 square meters of turf needed\n"
     ]
    }
   ],
   "source": [
    "import math\n",
    "def turfneeded(length,width,radius):\n",
    "    rectangle_area = length*width\n",
    "    circle_area = math.pi * radius**2\n",
    "    turfneeded = rectangle_area + circle_area\n",
    "    return int(turfneeded)\n",
    "length = int(raw_input(\"Enter length of garden: \"))\n",
    "width = int(raw_input(\"Enter width of garden: \"))\n",
    "radius = int(raw_input(\"Enter radius of circular flower bed: \"))\n",
    "print \"{} square meters of turf needed\".format(turfneeded(length,width,radius))"
   ]
  },
  {
   "cell_type": "code",
   "execution_count": null,
   "metadata": {
    "collapsed": true
   },
   "outputs": [],
   "source": [
    "'''Challenge 24\n",
    "Write a function that takes two numbers.\n",
    "The first number indicates the number of spaces that should be displayed and the second indicates the number of Xs that should be displayed. These should both be displayed on the same line. \n",
    "Now write another function that makes multiple calls to your first function and draws a picture with Xs. \n",
    "'''"
   ]
  },
  {
   "cell_type": "code",
   "execution_count": 2,
   "metadata": {
    "collapsed": false
   },
   "outputs": [],
   "source": [
    "def prntwhitespace(x):\n",
    "        return ' '*int(x)\n",
    "        \n",
    "def prntXs(y):        \n",
    "        return 'X'*int(y)\n",
    "\n",
    "def draw():\n",
    "    prntwhitespace()\n",
    "    prntXs\n"
   ]
  },
  {
   "cell_type": "code",
   "execution_count": 3,
   "metadata": {
    "collapsed": false,
    "scrolled": true
   },
   "outputs": [
    {
     "name": "stdout",
     "output_type": "stream",
     "text": [
      " X\n",
      "  XX\n",
      "   XXX\n",
      "    XXXX\n",
      "     XXXXX\n",
      "      XXXXXX\n",
      "       XXXXXXX\n",
      "        XXXXXXXX\n",
      "         XXXXXXXXX\n",
      "          XXXXXXXXXX\n",
      "           XXXXXXXXXXX\n",
      "          XXXXXXXXXX\n",
      "         XXXXXXXXX\n",
      "        XXXXXXXX\n",
      "       XXXXXXX\n",
      "      XXXXXX\n",
      "     XXXXX\n",
      "    XXXX\n",
      "   XXX\n",
      "  XX\n",
      " X\n",
      "XXXXXXXXXXXXXXXXXXXXXX\n",
      "X                    X\n",
      "X                    X\n",
      "X                    X\n",
      "X                    X\n",
      "X                    X\n",
      "X                    X\n",
      "X                    X\n",
      "X                    X\n",
      "X                    X\n",
      "X                    X\n",
      "X                    X\n",
      "X                    X\n",
      "X                    X\n",
      "X                    X\n",
      "X                    X\n",
      "X                    X\n",
      "X                    X\n",
      "X                    X\n",
      "XXXXXXXXXXXXXXXXXXXXXX\n"
     ]
    }
   ],
   "source": [
    "for ix in range(10):\n",
    "    print prntwhitespace(ix), prntXs(ix+1)\n",
    "for ix in range(10,-1,-1):\n",
    "    print prntwhitespace(ix), prntXs(ix+1)\n",
    "\n",
    "for ix in range(20):\n",
    "    if ix == 0 or ix == 19:\n",
    "        print prntXs(22)\n",
    "    else:\n",
    "        print prntXs(1),prntwhitespace(18),prntXs(1)\n"
   ]
  },
  {
   "cell_type": "code",
   "execution_count": 4,
   "metadata": {
    "collapsed": false
   },
   "outputs": [
    {
     "name": "stdout",
     "output_type": "stream",
     "text": [
      "XXXXXXXXXXXXXXXXXXXXXX\n",
      "X                    X\n",
      "X                    X\n",
      "X                    X\n",
      "X                    X\n",
      "X                    X\n",
      "X                    X\n",
      "X                    X\n",
      "X                    X\n",
      "XXXXXXXXXXXXXXXXXXXXXX\n",
      "XXXXXXXXXXXXXXXXXXXXXX\n",
      "X                    X\n",
      "X                    X\n",
      "X                    X\n",
      "X                    X\n",
      "X                    X\n",
      "X                    X\n",
      "X                    X\n",
      "X                    X\n",
      "XXXXXXXXXXXXXXXXXXXXXX\n"
     ]
    }
   ],
   "source": [
    "for ix in range(20):\n",
    "    if ix == 0 or ix == 19:\n",
    "        print prntXs(22)\n",
    "    elif ix ==9 or ix==10:\n",
    "        print prntXs(22)\n",
    "    else:\n",
    "        print prntXs(1),prntwhitespace(18),prntXs(1)"
   ]
  },
  {
   "cell_type": "code",
   "execution_count": 70,
   "metadata": {
    "collapsed": false
   },
   "outputs": [
    {
     "data": {
      "text/plain": [
       "'Challenge 25\\nWrite a sign-up program for an after-school club; it should ask the user for the following details and store them in a file:\\nFirst Name\\nLast Name\\nGender\\nForm\\n'"
      ]
     },
     "execution_count": 70,
     "metadata": {},
     "output_type": "execute_result"
    }
   ],
   "source": [
    "'''Challenge 25\n",
    "Write a sign-up program for an after-school club; it should ask the user for the following details and store them in a file:\n",
    "First Name\n",
    "Last Name\n",
    "Gender\n",
    "Form\n",
    "'''"
   ]
  },
  {
   "cell_type": "code",
   "execution_count": 5,
   "metadata": {
    "collapsed": false
   },
   "outputs": [],
   "source": [
    "def signup(fname='',lname='',gender='',form=''):\n",
    "    database = open(\"database.txt\",\"a\")\n",
    "    if fname=='':\n",
    "        fname=raw_input(\"Enter First name: \")\n",
    "    database.write(fname)\n",
    "    database.write(' ')\n",
    "    if lname=='':\n",
    "        lname=raw_input(\"Enter last name: \")\n",
    "    database.write(lname)\n",
    "    database.write(' ')\n",
    "    if gender=='':\n",
    "        gender=raw_input(\"Enter Gender: \")\n",
    "    database.write(gender)\n",
    "    database.write(' ')\n",
    "    if form=='':\n",
    "        form=raw_input(\"Enter Form: \")\n",
    "    database.write(form)\n",
    "    database.write(' ')\n",
    "    database.write(\"\\n\")\n",
    "    database.close"
   ]
  },
  {
   "cell_type": "code",
   "execution_count": 6,
   "metadata": {
    "collapsed": false
   },
   "outputs": [
    {
     "name": "stdout",
     "output_type": "stream",
     "text": [
      "Enter First name: arnarrnd#\n",
      "Enter last name: canccerours\n",
      "Enter Gender: apeoputus\n",
      "Enter Form: 132488\n"
     ]
    }
   ],
   "source": [
    "signup()"
   ]
  },
  {
   "cell_type": "code",
   "execution_count": 7,
   "metadata": {
    "collapsed": false
   },
   "outputs": [],
   "source": [
    "less database.txt"
   ]
  },
  {
   "cell_type": "code",
   "execution_count": 1,
   "metadata": {
    "collapsed": false
   },
   "outputs": [
    {
     "data": {
      "text/plain": [
       "'Challenge 26\\nWrite a maths quiz with three questions. \\nIt must ask the user to input their name at the start.\\nAt the end it should display a message informing the user of their score.\\nWrite a function that saves the user\\xe2\\x80\\x99s name and quiz result in a text file. \\n'"
      ]
     },
     "execution_count": 1,
     "metadata": {},
     "output_type": "execute_result"
    }
   ],
   "source": [
    "'''Challenge 26\n",
    "Write a maths quiz with three questions. \n",
    "It must ask the user to input their name at the start.\n",
    "At the end it should display a message informing the user of their score.\n",
    "Write a function that saves the user’s name and quiz result in a text file. \n",
    "\n",
    "Challenge 27\n",
    "Extend your maths quiz program from Challenge 20 by \n",
    "including a list of the scores of people that have taken the quiz before.\n",
    "'''"
   ]
  },
  {
   "cell_type": "code",
   "execution_count": null,
   "metadata": {
    "collapsed": false
   },
   "outputs": [],
   "source": [
    "from random import randint\n",
    "import time\n",
    "localtime = time.localtime()\n",
    "timestring = time.strftime(\"%d/%m/%Y %H:%M\")\n",
    "score = 0 \n",
    "name = raw_input(\"Enter your name: \")\n",
    "def quiz():\n",
    "    global score\n",
    "    global name\n",
    "    global date\n",
    "    print \"press Q to quit\"\n",
    "    q1 = randint(1,10)\n",
    "    usrans = raw_input(\"What is {} squared?: \".format(q1))\n",
    "    \n",
    "    if usrans == \"Q\":\n",
    "        write_file(name,score)\n",
    "        return \n",
    "    else:\n",
    "        usrans=int(usrans)\n",
    "    if usrans == q1**2:\n",
    "        print \"Good Job!, You gained a point\"\n",
    "        score += 1\n",
    "        print \"Your current score is {}.\".format(score)\n",
    "        quiz()\n",
    "        \n",
    "    else:\n",
    "        print \"Incorrect, You lost a point\"\n",
    "        score -= 1\n",
    "        print \"Your current score is {}.\".format(score)\n",
    "        quiz()\n",
    "           \n",
    "def write_file(name,score):\n",
    "    quizresults = open(\"quizresults\",\"a\")\n",
    "    quizresults.write('NAME: ')\n",
    "    quizresults.write(name)\n",
    "    quizresults.write(' ')\n",
    "    quizresults.write('SCORE: ')\n",
    "    quizresults.write(str(score))\n",
    "    quizresults.write(' ')\n",
    "    quizresults.write('DATE AND TIME: ')\n",
    "    quizresults.write(str(timestring))\n",
    "    quizresults.write(\"\\n\")\n",
    "    quizresults.close\n"
   ]
  },
  {
   "cell_type": "code",
   "execution_count": null,
   "metadata": {
    "collapsed": true
   },
   "outputs": [],
   "source": [
    "quiz()\n",
    "\n"
   ]
  },
  {
   "cell_type": "code",
   "execution_count": null,
   "metadata": {
    "collapsed": false
   },
   "outputs": [],
   "source": [
    "less quizresults"
   ]
  },
  {
   "cell_type": "code",
   "execution_count": null,
   "metadata": {
    "collapsed": false
   },
   "outputs": [],
   "source": [
    "'''Challenge 28\n",
    "Write a random name generator that asks for the\n",
    "user to input 5 names, stores them in an array and \n",
    "then outputs one of them at random.\n",
    "'''"
   ]
  },
  {
   "cell_type": "code",
   "execution_count": 71,
   "metadata": {
    "collapsed": false
   },
   "outputs": [
    {
     "name": "stdout",
     "output_type": "stream",
     "text": [
      "Enter a name: cool\n",
      "Enter another name: cool1\n",
      "Enter another name: cool2\n",
      "Enter another name: cool3\n",
      "Enter another name: cool4\n",
      "cool3\n"
     ]
    }
   ],
   "source": [
    "from random import randint\n",
    "dct = {}\n",
    "for n in range(1,6):  \n",
    "    if n > 1:\n",
    "        dct[n]=raw_input(\"Enter another name: \")\n",
    "    else:\n",
    "        dct[n] = raw_input(\"Enter a name: \")\n",
    "print dct[randint(1,5)]"
   ]
  },
  {
   "cell_type": "code",
   "execution_count": 1,
   "metadata": {
    "collapsed": false,
    "scrolled": true
   },
   "outputs": [
    {
     "name": "stdout",
     "output_type": "stream",
     "text": [
      "Enter a name: 1\n",
      "Enter another name: \n",
      "Enter another name: 3\n",
      "Enter another name: 4\n",
      "Enter another name: 5\n",
      "1\n"
     ]
    }
   ],
   "source": [
    "from random import randint\n",
    "dct = {}\n",
    "for n in range(1,6):  \n",
    "    dct[n]=raw_input(\"Enter {} name: \".format(\"another\" if n > 1  else \"a\"))\n",
    "print dct[randint(1,5)]"
   ]
  },
  {
   "cell_type": "code",
   "execution_count": null,
   "metadata": {
    "collapsed": true
   },
   "outputs": [],
   "source": [
    "'''Challenge 29\n",
    "Write a program that allows the user to create and \n",
    "store a checklist for a holiday. \n",
    "It should start by asking them the destination of \n",
    "the holiday, how many things they need to pack and how many \n",
    "tasks they need to complete to prepare. \n",
    "The user should then be able to enter each item they \n",
    "need to pack and each task they need to complete.\n",
    "'''"
   ]
  },
  {
   "cell_type": "code",
   "execution_count": 15,
   "metadata": {
    "collapsed": false
   },
   "outputs": [
    {
     "name": "stdout",
     "output_type": "stream",
     "text": [
      "Where are you going?ds\n",
      "Enter something to the check list: sd\n",
      "Enter something to the check list: \n",
      "Enter something to the check list: ssd\n",
      "Enter something to the check list: sdf\n",
      "Enter something to the check list: dfgw\n",
      "Enter how many items need to be packed: sd\n",
      "[('To-Do 3', 'ssd'), ('To-Do 1', 'sd'), ('To-Do 2', ''), ('destination', 'ds'), ('To-Do 4', 'sdf'), ('To-Do 5', 'dfgw'), ('itemstopack', 'sd')]\n"
     ]
    }
   ],
   "source": [
    "checklist = {\"destination\":raw_input('Where are you going?'),'To-Do 1':raw_input('Enter something to the check list: '),'To-Do 2':raw_input('Enter something to the check list: '),'To-Do 3':raw_input('Enter something to the check list: '),'To-Do 4':raw_input('Enter something to the check list: '),'To-Do 5':raw_input('Enter something to the check list: '),'itemstopack':raw_input('Enter how many items need to be packed: ')}\n",
    "print dict.items(checklist)"
   ]
  },
  {
   "cell_type": "code",
   "execution_count": 9,
   "metadata": {
    "collapsed": false
   },
   "outputs": [
    {
     "data": {
      "text/plain": [
       "{'1': 'f', '2': 'f', '3': 'f', '4': 'f', 'destination': 'f'}"
      ]
     },
     "execution_count": 9,
     "metadata": {},
     "output_type": "execute_result"
    }
   ],
   "source": [
    "'''Challenge 30\n",
    "Improve your maths quiz from Challenge 20 and 27 by storing all the questions and possible answers in a two-dimensional array.\n",
    "Write a function that can be reused to ask each of the questions.\n",
    "'''"
   ]
  },
  {
   "cell_type": "code",
   "execution_count": 4,
   "metadata": {
    "collapsed": false
   },
   "outputs": [
    {
     "data": {
      "text/plain": [
       "'Chicago'"
      ]
     },
     "execution_count": 4,
     "metadata": {},
     "output_type": "execute_result"
    }
   ],
   "source": []
  },
  {
   "cell_type": "code",
   "execution_count": 16,
   "metadata": {
    "collapsed": true
   },
   "outputs": [],
   "source": [
    "dct={}"
   ]
  },
  {
   "cell_type": "code",
   "execution_count": 17,
   "metadata": {
    "collapsed": true
   },
   "outputs": [],
   "source": [
    "dct['row']={'column':5}"
   ]
  },
  {
   "cell_type": "code",
   "execution_count": 18,
   "metadata": {
    "collapsed": false
   },
   "outputs": [
    {
     "data": {
      "text/plain": [
       "5"
      ]
     },
     "execution_count": 18,
     "metadata": {},
     "output_type": "execute_result"
    }
   ],
   "source": [
    "dct['row']['column']"
   ]
  },
  {
   "cell_type": "code",
   "execution_count": 19,
   "metadata": {
    "collapsed": false
   },
   "outputs": [
    {
     "data": {
      "text/plain": [
       "{'row': {'column': 5}}"
      ]
     },
     "execution_count": null,
     "metadata": {},
     "output_type": "execute_result"
    }
   ],
   "source": [
    "dct"
   ]
  },
  {
   "cell_type": "code",
   "execution_count": 3,
   "metadata": {
    "collapsed": false
   },
   "outputs": [
    {
     "name": "stdout",
     "output_type": "stream",
     "text": [
      "Enter your name: as\n",
      "press Q to quit\n",
      "What is 5 squared?: 25\n",
      "Good Job!, You gained a point\n",
      "Your current score is 1.\n",
      "press Q to quit\n",
      "What is 4 squared?: 16\n",
      "Good Job!, You gained a point\n",
      "Your current score is 2.\n",
      "press Q to quit\n",
      "What is 5 squared?: Q\n"
     ]
    }
   ],
   "source": [
    "from random import randint\n",
    "import time\n",
    "localtime = time.localtime()\n",
    "timestring = time.strftime(\"%d/%m/%Y %H:%M\")\n",
    "score = 0 \n",
    "results = {}\n",
    "name = raw_input(\"Enter your name: \")\n",
    "\n",
    "def quiz():\n",
    "    global score\n",
    "    global name\n",
    "    global date\n",
    "    print \"press Q to quit\"\n",
    "    q1 = randint(1,10)\n",
    "    usrans = raw_input(\"What is {} squared?: \".format(q1))\n",
    "    \n",
    "    if usrans == \"Q\":\n",
    "        return \n",
    "    else:\n",
    "        usrans=int(usrans)\n",
    "    if usrans == q1**2:\n",
    "        print \"Good Job!, You gained a point\"\n",
    "        score += 1\n",
    "        print \"Your current score is {}.\".format(score)\n",
    "        quiz()\n",
    "        \n",
    "    else:\n",
    "        print \"Incorrect, You lost a point\"\n",
    "        score -= 1\n",
    "        print \"Your current score is {}.\".format(score)\n",
    "        quiz()\n",
    "        \n",
    "quiz()\n"
   ]
  },
  {
   "cell_type": "code",
   "execution_count": 5,
   "metadata": {
    "collapsed": false
   },
   "outputs": [],
   "source": [
    "lst=[]"
   ]
  },
  {
   "cell_type": "code",
   "execution_count": 6,
   "metadata": {
    "collapsed": false
   },
   "outputs": [],
   "source": [
    "\n",
    "def database_entry(name,score,timestring):\n",
    "    dct={}\n",
    "    dct['name']=name\n",
    "    dct['date_time']=timestring\n",
    "    dct['score']=score\n",
    "    return dct\n",
    "lst.append(database_entry(name,score,timestring))"
   ]
  },
  {
   "cell_type": "code",
   "execution_count": 7,
   "metadata": {
    "collapsed": false
   },
   "outputs": [
    {
     "data": {
      "text/plain": [
       "[{'date_time': '18/11/2016 20:36', 'name': 'as', 'score': 2}]"
      ]
     },
     "execution_count": 7,
     "metadata": {},
     "output_type": "execute_result"
    }
   ],
   "source": [
    "lst"
   ]
  },
  {
   "cell_type": "code",
   "execution_count": 33,
   "metadata": {
    "collapsed": true
   },
   "outputs": [],
   "source": [
    "from datetime import datetime"
   ]
  },
  {
   "cell_type": "code",
   "execution_count": 35,
   "metadata": {
    "collapsed": false
   },
   "outputs": [],
   "source": [
    "lst=[{'name':\"mike\",\"date_time\":datetime.now(),'score':90}]"
   ]
  },
  {
   "cell_type": "code",
   "execution_count": 38,
   "metadata": {
    "collapsed": false
   },
   "outputs": [
    {
     "data": {
      "text/plain": [
       "'mike'"
      ]
     },
     "execution_count": 38,
     "metadata": {},
     "output_type": "execute_result"
    }
   ],
   "source": [
    "lst[0]['name']"
   ]
  },
  {
   "cell_type": "code",
   "execution_count": 40,
   "metadata": {
    "collapsed": false
   },
   "outputs": [
    {
     "data": {
      "text/plain": [
       "90"
      ]
     },
     "execution_count": 40,
     "metadata": {},
     "output_type": "execute_result"
    }
   ],
   "source": [
    "lst[0]['score']"
   ]
  },
  {
   "cell_type": "code",
   "execution_count": null,
   "metadata": {
    "collapsed": true
   },
   "outputs": [],
   "source": []
  }
 ],
 "metadata": {
  "kernelspec": {
   "display_name": "Python 2 (SageMath)",
   "language": "python",
   "name": "python2"
  },
  "language_info": {
   "codemirror_mode": {
    "name": "ipython",
    "version": 2
   },
   "file_extension": ".py",
   "mimetype": "text/x-python",
   "name": "python",
   "nbconvert_exporter": "python",
   "pygments_lexer": "ipython2",
   "version": "2.7.10"
  }
 },
 "nbformat": 4,
 "nbformat_minor": 0
}
