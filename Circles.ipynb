{
 "cells": [
  {
   "cell_type": "code",
   "execution_count": 9,
   "metadata": {
    "collapsed": false
   },
   "outputs": [
    {
     "name": "stdout",
     "output_type": "stream",
     "text": [
      "Enter circle radius: 50\n",
      "Circumference = 7853.98163397 \n",
      "\n",
      "Proof, using the reverse operations of the equation (pi)r2 \n",
      "if we divide by pi we get 2500.0 \n",
      "\n",
      "And then squareroot for r we get 50 which is our radius \n",
      "\n"
     ]
    }
   ],
   "source": [
    "import math\n",
    "import time\n",
    "from math import sqrt\n",
    "def cir_area(radius):\n",
    "\toutput = math.pi*int(radius)**2\n",
    "\tprint \"Circumference = {} \\n\".format(output)\n",
    "\ttime.sleep(1)\n",
    "\tprint \"Proof, using the reverse operations of the equation (pi)r2 \\nif we divide by pi we get {} \\n\".format(output/math.pi)\n",
    "\ttime.sleep(2)\n",
    "\tprint \"And then squareroot for r we get {} which is our radius \\n\".format(inp)\n",
    "\n",
    "\n",
    "inp = raw_input(\"Enter circle radius: \")\n",
    "cir_area(inp)\n",
    "\n"
   ]
  },
  {
   "cell_type": "code",
   "execution_count": null,
   "metadata": {
    "collapsed": false
   },
   "outputs": [],
   "source": []
  }
 ],
 "metadata": {
  "kernelspec": {
   "display_name": "Python 2 (SageMath)",
   "language": "python",
   "name": "python2"
  },
  "language_info": {
   "codemirror_mode": {
    "name": "ipython",
    "version": 2
   },
   "file_extension": ".py",
   "mimetype": "text/x-python",
   "name": "python",
   "nbconvert_exporter": "python",
   "pygments_lexer": "ipython2",
   "version": "2.7.13"
  }
 },
 "nbformat": 4,
 "nbformat_minor": 0
}
