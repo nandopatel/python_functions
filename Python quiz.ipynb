{
 "cells": [
  {
   "cell_type": "code",
   "execution_count": null,
   "metadata": {
    "collapsed": false,
    "scrolled": false
   },
   "outputs": [
    {
     "name": "stdout",
     "output_type": "stream",
     "text": [
      "0 ArgumentPassing1\n",
      "1 Basic-Operators.txt\n",
      "2 BasicOperators\n",
      "3 core-datatypes.txt\n",
      "4 CoreDatatypes\n",
      "5 developer-questions-answers.txt\n",
      "6 Dictionary\n",
      "7 exception-handling.txt\n",
      "8 ExceptionHandling\n",
      "9 Files-1\n",
      "10 files-1.txt\n",
      "11 Files-2\n",
      "12 Files-3\n",
      "13 Files-4\n",
      "14 Files-5\n",
      "15 Files-5.txt\n",
      "16 For-WhileLoops-1\n",
      "17 For-WhileLoops-4\n",
      "18 For-WhileLoops-5\n",
      "19 For-WhileLoops-6\n",
      "20 Function-1\n",
      "21 function-1.txt\n",
      "22 Function-2\n",
      "23 Function-3\n",
      "24 ListComprehension\n",
      "25 Lists-1\n",
      "26 lists-1.txt\n",
      "27 Lists-2\n",
      "28 Lists-3\n",
      "29 lists-3.txt\n",
      "30 Lists-4\n",
      "31 lists-4.txt\n",
      "32 Lists-5\n",
      "33 lists-5.txt\n",
      "34 loops-5.txt\n",
      "35 Mapping-Functions–1.txt\n",
      "36 Mapping-Functions–3.txt\n",
      "37 MappingFunctions-1\n",
      "38 MappingFunctions-3\n",
      "39 Math-1\n",
      "40 math-1.txt\n",
      "41 Math-2\n",
      "42 Math-3\n",
      "43 NumericTypes\n",
      "44 OperatingSystem\n",
      "45 Operator-Overloading.txt\n",
      "46 OperatorOverloading\n",
      "47 OS.txt\n",
      "48 PaxHeader\n",
      "49 PythonQuestionsandAnswers-MappingFunctions-1\n",
      "51 RandomModule\n",
      "52 RegularExpressions\n",
      "53 Strings-1\n",
      "54 Strings-10\n",
      "55 Strings-11\n",
      "56 strings-11.txt\n",
      "57 Strings-12\n",
      "58 Strings-13\n",
      "59 strings-13.txt\n",
      "60 Strings-3\n",
      "61 Strings-4\n",
      "62 Strings-6\n",
      "63 Strings-7\n",
      "64 Strings-8\n",
      "65 strings-8.txt\n",
      "66 Strings-9\n",
      "67 Tuples\n",
      "68 tuples.txt\n",
      "69 VariableNames\n",
      "quiz #:= 60\n",
      "1. What is the output when following statement is executed ?\n",
      " 1. >>>chr(ord('A'))\n",
      "a) A\n",
      "b) B\n",
      "c) a\n",
      "d) Error\n",
      "\n",
      "A\n",
      "Not Correct\n",
      "\n",
      "\n",
      "Answer:a\n",
      "Explanation:Execute in shell to verify.\n",
      "2. What is the output when following statement is executed ?\n",
      " 1. >>>print(chr(ord('b')+1))\n",
      "a) a\n",
      "b) b\n",
      "c) c\n",
      "d) A\n",
      "\n"
     ]
    }
   ],
   "source": [
    "# for i in `ls`;do sed -i '/advertisements/d' $i;done\n",
    "# for i in `ls`; do sed -i '1,65d' $i;done\n",
    "\n",
    "from subprocess import call\n",
    "import requests\n",
    "import re\n",
    "import pandas as pd\n",
    "import numpy as np\n",
    "from pandas import read_table\n",
    "import datetime\n",
    "import subprocess\n",
    "from redis import Redis\n",
    "import os\n",
    "pd.set_option('display.max_rows',500)\n",
    "pd.set_option('display.width',1000)\n",
    "redis_client=Redis(host='127.0.0.1', port=6379, db = 3)\n",
    "\n",
    "path = \"C:\\Users\\User\\Desktop\\python_quiz\\PythonQuizupdated!\\quizzes7\\\\\"\n",
    "\n",
    "def runShellCmd(cmd):\n",
    "    run = subprocess.Popen(cmd, shell=True, stdout=subprocess.PIPE, stderr=subprocess.PIPE)\n",
    "    out, err = run.communicate()\n",
    "    if err:\n",
    "        print err\n",
    "\n",
    "def prob_fun(start,stop,score):\n",
    "    test=pd.Series(questions_index_list)\n",
    "    problem=df.a.ix[test[start]:test[stop]-1]\n",
    "    ans_index=(problem[problem.str.contains('Answer')].index.tolist())[0]\n",
    "    for line in problem.ix[:ans_index-1]:\n",
    "        print line\n",
    "    test=raw_input()\n",
    "    real_ans=df.ix[ans_index][0].split(':')[1].strip()\n",
    "    if test==real_ans:\n",
    "        print('Correct')\n",
    "        score += 1\n",
    "    else:\n",
    "        print(\"Not Correct\")\n",
    "        score = score\n",
    "        print('\\n')\n",
    "        for indx in problem.ix[ans_index:]:\n",
    "            print (indx) \n",
    "        \n",
    "    return score\n",
    "\n",
    "def get_content():\n",
    "    url='http://www.sanfoundry.com/1000-python-questions-answers/'\n",
    "    data=requests.get(url).content\n",
    "    data=re.findall('http.*/python.*',data) #finds the useful urls on the page\n",
    "    url_lst=[]\n",
    "    for indx,line in enumerate(data):\n",
    "        url=re.sub('>.*|\".*','',line)\n",
    "        file_name=re.split('>|<',line)[1].replace(' ','').replace('&#8211;','-')\n",
    "\tcmd='w3m {}>{}'.format(url,file_name)\n",
    "        runShellCmd(cmd)\n",
    "   \n",
    "\n",
    "#get_content()    \n",
    "\n",
    "\n",
    "filenames={}\n",
    "for indx,filename in enumerate(os.listdir(path)):\n",
    "\tif filename[-3:]!='.py':\n",
    "\t\tfilenames[indx]=filename\n",
    "\n",
    "for item in filenames:\n",
    "\tif filename[-3:]!='.py':\n",
    "\t\tprint item,filenames[item]\n",
    "\n",
    "\n",
    "quiz_num = input('quiz #:= ')\n",
    "name_of_quiz=filenames[quiz_num]\n",
    "#call([\"gedit\",name_of_quiz]) #opens related text file to clean up data\n",
    "\n",
    "\n",
    "\n",
    "df=pd.read_table(path+name_of_quiz,names=['a'])\n",
    "start=df.a[df.a.str.contains('1\\.')].index.tolist()[0]\n",
    "end=df.a[df.a.str.contains('Sanfoundry Global Education')].index.tolist()[0]\n",
    "df=df[start:end]\n",
    "df.replace('View Answer','',inplace=True)\n",
    "questions_index_list=df[df.a.str.contains('^\\d{1,}\\..*\\?')].index.tolist() #finds the indicies of the questions\n",
    "explanation_index=df[df.a.str.contains('Explanation')].index.tolist()  #finds the indicies of the explanations\n",
    "answer_index=df.a[df.a.str.contains('Answer')].index.tolist()  #indicies of the answers\n",
    "\n",
    "\n",
    "\n",
    "score = 0\n",
    "counter = 0\n",
    "scoring = {}\n",
    "\n",
    "for ix in range(len(questions_index_list)-1):\n",
    "\n",
    "    start = datetime.datetime.now()\n",
    "    score=prob_fun(ix,ix+1,score)\n",
    "    finish = datetime.datetime.now()\n",
    "    time_taken = finish - start\n",
    "    counter += 1\n",
    "    scoring[counter]=time_taken\n",
    "percentage=float(score)/counter\n",
    "\n",
    "\n",
    "\n",
    "time=datetime.datetime.now()\n",
    "times={}\n",
    "for indx,time in enumerate(scoring.values()):\n",
    "    times[str(indx+1)]=str(time).split(':')[-1]\n",
    "    \n",
    "\n",
    "time=datetime.datetime.now()\n",
    "redis_client.hmset(name_of_quiz,{time:{str(percentage*100):times}})\n"
   ]
  },
  {
   "cell_type": "code",
   "execution_count": 2,
   "metadata": {
    "collapsed": false
   },
   "outputs": [
    {
     "name": "stdout",
     "output_type": "stream",
     "text": [
      "True\n"
     ]
    }
   ],
   "source": [
    "f = None\n",
    "\n",
    "for i in range (5):\n",
    "    with open(\"data.txt\", \"w\") as f:\n",
    "        if i > 2:\n",
    "            break\n",
    "print f.closed"
   ]
  },
  {
   "cell_type": "code",
   "execution_count": 1,
   "metadata": {
    "collapsed": false
   },
   "outputs": [],
   "source": [
    "times_tested='001'"
   ]
  },
  {
   "cell_type": "code",
   "execution_count": 1,
   "metadata": {
    "collapsed": false
   },
   "outputs": [
    {
     "name": "stdout",
     "output_type": "stream",
     "text": [
      "0\n",
      "1\n",
      "2\n",
      "3\n",
      "4\n"
     ]
    }
   ],
   "source": [
    "for i in range (5):\n",
    "    print i\n"
   ]
  },
  {
   "cell_type": "code",
   "execution_count": null,
   "metadata": {
    "collapsed": false,
    "scrolled": false
   },
   "outputs": [],
   "source": [
    "score = 0\n",
    "counter = 0\n",
    "scoring = {}\n",
    "\n",
    "for ix in  range(len(questions_index_list)-1):\n",
    "    start = datetime.datetime.now()\n",
    "    score=prob_fun(ix,ix+1,score)\n",
    "    finish = datetime.datetime.now()\n",
    "    time_taken = finish - start\n",
    "    print score\n",
    "    counter += 1\n",
    "    scoring[counter]=time_taken\n",
    "percentage=float(score)/counter"
   ]
  },
  {
   "cell_type": "code",
   "execution_count": 2,
   "metadata": {
    "collapsed": false
   },
   "outputs": [
    {
     "ename": "NameError",
     "evalue": "name 'scoring' is not defined",
     "output_type": "error",
     "traceback": [
      "\u001b[1;31m---------------------------------------------------------------------------\u001b[0m",
      "\u001b[1;31mNameError\u001b[0m                                 Traceback (most recent call last)",
      "\u001b[1;32m<ipython-input-2-7f8eb401eefc>\u001b[0m in \u001b[0;36m<module>\u001b[1;34m()\u001b[0m\n\u001b[0;32m      1\u001b[0m \u001b[0mtimes\u001b[0m\u001b[1;33m=\u001b[0m\u001b[1;33m{\u001b[0m\u001b[1;33m}\u001b[0m\u001b[1;33m\u001b[0m\u001b[0m\n\u001b[1;32m----> 2\u001b[1;33m \u001b[1;32mfor\u001b[0m \u001b[0mindx\u001b[0m\u001b[1;33m,\u001b[0m\u001b[0mtime\u001b[0m \u001b[1;32min\u001b[0m \u001b[0menumerate\u001b[0m\u001b[1;33m(\u001b[0m\u001b[0mscoring\u001b[0m\u001b[1;33m.\u001b[0m\u001b[0mvalues\u001b[0m\u001b[1;33m(\u001b[0m\u001b[1;33m)\u001b[0m\u001b[1;33m)\u001b[0m\u001b[1;33m:\u001b[0m\u001b[1;33m\u001b[0m\u001b[0m\n\u001b[0m\u001b[0;32m      3\u001b[0m     \u001b[0mtimes\u001b[0m\u001b[1;33m[\u001b[0m\u001b[0mstr\u001b[0m\u001b[1;33m(\u001b[0m\u001b[0mindx\u001b[0m\u001b[1;33m+\u001b[0m\u001b[1;36m1\u001b[0m\u001b[1;33m)\u001b[0m\u001b[1;33m]\u001b[0m\u001b[1;33m=\u001b[0m\u001b[0mstr\u001b[0m\u001b[1;33m(\u001b[0m\u001b[0mtime\u001b[0m\u001b[1;33m)\u001b[0m\u001b[1;33m.\u001b[0m\u001b[0msplit\u001b[0m\u001b[1;33m(\u001b[0m\u001b[1;34m':'\u001b[0m\u001b[1;33m)\u001b[0m\u001b[1;33m[\u001b[0m\u001b[1;33m-\u001b[0m\u001b[1;36m1\u001b[0m\u001b[1;33m]\u001b[0m\u001b[1;33m\u001b[0m\u001b[0m\n\u001b[0;32m      4\u001b[0m \u001b[1;33m\u001b[0m\u001b[0m\n",
      "\u001b[1;31mNameError\u001b[0m: name 'scoring' is not defined"
     ]
    }
   ],
   "source": [
    "times={}\n",
    "for indx,time in enumerate(scoring.values()):\n",
    "    times[str(indx+1)]=str(time).split(':')[-1]\n",
    "    "
   ]
  },
  {
   "cell_type": "markdown",
   "metadata": {
    "collapsed": false
   },
   "source": [
    "times"
   ]
  },
  {
   "cell_type": "code",
   "execution_count": 1,
   "metadata": {
    "collapsed": false
   },
   "outputs": [
    {
     "ename": "NameError",
     "evalue": "name 'times' is not defined",
     "output_type": "error",
     "traceback": [
      "\u001b[1;31m---------------------------------------------------------------------------\u001b[0m",
      "\u001b[1;31mNameError\u001b[0m                                 Traceback (most recent call last)",
      "\u001b[1;32m<ipython-input-1-18da0b175c3c>\u001b[0m in \u001b[0;36m<module>\u001b[1;34m()\u001b[0m\n\u001b[1;32m----> 1\u001b[1;33m \u001b[1;32mprint\u001b[0m \u001b[0mtimes\u001b[0m\u001b[1;33m\u001b[0m\u001b[0m\n\u001b[0m",
      "\u001b[1;31mNameError\u001b[0m: name 'times' is not defined"
     ]
    }
   ],
   "source": [
    "print times"
   ]
  },
  {
   "cell_type": "code",
   "execution_count": 66,
   "metadata": {
    "collapsed": false
   },
   "outputs": [
    {
     "data": {
      "text/plain": [
       "True"
      ]
     },
     "execution_count": 66,
     "metadata": {},
     "output_type": "execute_result"
    }
   ],
   "source": [
    "\n",
    "\n",
    "time=datetime.datetime.now()\n",
    "redis_client.hmset(name_of_quiz,{time:{str(percentage*100):times}})\n"
   ]
  },
  {
   "cell_type": "code",
   "execution_count": 59,
   "metadata": {
    "collapsed": false
   },
   "outputs": [
    {
     "data": {
      "text/plain": [
       "['__class__',\n",
       " '__cmp__',\n",
       " '__contains__',\n",
       " '__delattr__',\n",
       " '__delitem__',\n",
       " '__doc__',\n",
       " '__eq__',\n",
       " '__format__',\n",
       " '__ge__',\n",
       " '__getattribute__',\n",
       " '__getitem__',\n",
       " '__gt__',\n",
       " '__hash__',\n",
       " '__init__',\n",
       " '__iter__',\n",
       " '__le__',\n",
       " '__len__',\n",
       " '__lt__',\n",
       " '__ne__',\n",
       " '__new__',\n",
       " '__reduce__',\n",
       " '__reduce_ex__',\n",
       " '__repr__',\n",
       " '__setattr__',\n",
       " '__setitem__',\n",
       " '__sizeof__',\n",
       " '__str__',\n",
       " '__subclasshook__',\n",
       " 'clear',\n",
       " 'copy',\n",
       " 'fromkeys',\n",
       " 'get',\n",
       " 'has_key',\n",
       " 'items',\n",
       " 'iteritems',\n",
       " 'iterkeys',\n",
       " 'itervalues',\n",
       " 'keys',\n",
       " 'pop',\n",
       " 'popitem',\n",
       " 'setdefault',\n",
       " 'update',\n",
       " 'values',\n",
       " 'viewitems',\n",
       " 'viewkeys',\n",
       " 'viewvalues']"
      ]
     },
     "execution_count": 59,
     "metadata": {},
     "output_type": "execute_result"
    }
   ],
   "source": [
    "dir(dict)"
   ]
  },
  {
   "cell_type": "code",
   "execution_count": null,
   "metadata": {
    "collapsed": true
   },
   "outputs": [],
   "source": []
  }
 ],
 "metadata": {
  "kernelspec": {
   "display_name": "Python 2",
   "language": "python",
   "name": "python2"
  },
  "language_info": {
   "codemirror_mode": {
    "name": "ipython",
    "version": 2
   },
   "file_extension": ".py",
   "mimetype": "text/x-python",
   "name": "python",
   "nbconvert_exporter": "python",
   "pygments_lexer": "ipython2",
   "version": "2.7.10"
  }
 },
 "nbformat": 4,
 "nbformat_minor": 0
}
