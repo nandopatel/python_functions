{
 "cells": [
  {
   "cell_type": "code",
   "execution_count": 5,
   "metadata": {
    "collapsed": false
   },
   "outputs": [
    {
     "name": "stdout",
     "output_type": "stream",
     "text": [
      "What difficulty would you like to play at ['e'(easy)'m'(medium)'h'(hard)?] 'e'\n",
      "Guess the number between 1 and 10 5\n",
      "Too high\n",
      "Guess the number between 1 and 10 2\n",
      "Too low\n",
      "Guess the number between 1 and 10 3\n",
      "Too low\n",
      "Guess the number between 1 and 10 4\n",
      "('The answer was', 4, '. You took ', 4, ' goes')\n"
     ]
    }
   ],
   "source": [
    "import random\n",
    "\n",
    "usr_choice = input(\"What difficulty would you like to play at ['e'(easy)'m'(medium)'h'(hard)?] \")\n",
    "\n",
    "dct ={}\n",
    "dct['e']=10\n",
    "dct['m']=20\n",
    "dct['h']=100\n",
    "\n",
    "n=random.randint(1,dct[usr_choice])\n",
    "goestaken=0\n",
    "guess=0\n",
    "\n",
    "while guess != n:\n",
    "    guess = int(input(\"Guess the number between 1 and {} \".format(dct[usr_choice])))\n",
    "    goestaken += 1\n",
    "    if guess > n:\n",
    "        print(\"Too high\")\n",
    "    if guess < n:\n",
    "        print(\"Too low\")\n",
    "\n",
    "print (\"The answer was\",n,\". You took \",goestaken,\" goes\")\n"
   ]
  },
  {
   "cell_type": "code",
   "execution_count": null,
   "metadata": {
    "collapsed": true
   },
   "outputs": [],
   "source": []
  }
 ],
 "metadata": {
  "kernelspec": {
   "display_name": "Python 2",
   "language": "python",
   "name": "python2"
  },
  "language_info": {
   "codemirror_mode": {
    "name": "ipython",
    "version": 2
   },
   "file_extension": ".py",
   "mimetype": "text/x-python",
   "name": "python",
   "nbconvert_exporter": "python",
   "pygments_lexer": "ipython2",
   "version": "2.7.10"
  }
 },
 "nbformat": 4,
 "nbformat_minor": 0
}
