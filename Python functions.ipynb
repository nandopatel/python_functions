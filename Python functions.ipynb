{
 "cells": [
  {
   "cell_type": "code",
   "execution_count": null,
   "metadata": {
    "collapsed": false
   },
   "outputs": [],
   "source": [
    "a=raw_input(\"Enter the string:\")"
   ]
  },
  {
   "cell_type": "code",
   "execution_count": null,
   "metadata": {
    "collapsed": false
   },
   "outputs": [],
   "source": [
    "print a.swapcase()"
   ]
  },
  {
   "cell_type": "code",
   "execution_count": 7,
   "metadata": {
    "collapsed": false
   },
   "outputs": [
    {
     "name": "stdout",
     "output_type": "stream",
     "text": [
      "Please insert a word:andna\n",
      "palindrome\n"
     ]
    }
   ],
   "source": [
    "#prints if user input is a palindrome or not.\n",
    "x=raw_input('Please insert a word:')\n",
    "  \n",
    "y=x[::-1] \n",
    "if x==y: \n",
    "    print('palindrome') \n",
    "else: \n",
    "    print('not a palindrome') \n"
   ]
  },
  {
   "cell_type": "code",
   "execution_count": 3,
   "metadata": {
    "collapsed": false
   },
   "outputs": [
    {
     "name": "stdout",
     "output_type": "stream",
     "text": [
      "Enter your String:Hello this is the longest word\n",
      "longest\n"
     ]
    }
   ],
   "source": [
    "#prints the longest inputted word.\n",
    "strng = raw_input(\"Enter your String:\") \n",
    " \n",
    "#write down your logic here\n",
    "splitstrng = strng.split(' ')\n",
    "max=0\n",
    "for word in splitstrng:\n",
    "    if len(word) > max:\n",
    "        max = len(word)\n",
    "        lngstwrd = word\n",
    "print lngstwrd\n",
    "        \n",
    "        \n",
    "        \n",
    "\n",
    "\n",
    "     \n",
    " \n",
    " \n",
    "#print longest_word \n",
    " \n"
   ]
  },
  {
   "cell_type": "code",
   "execution_count": 8,
   "metadata": {
    "collapsed": false
   },
   "outputs": [
    {
     "data": {
      "text/plain": [
       "u'C:\\\\Users\\\\User'"
      ]
     },
     "execution_count": 8,
     "metadata": {},
     "output_type": "execute_result"
    }
   ],
   "source": [
    "%pwd"
   ]
  },
  {
   "cell_type": "code",
   "execution_count": 9,
   "metadata": {
    "collapsed": false
   },
   "outputs": [
    {
     "data": {
      "text/plain": [
       "'strngs'"
      ]
     },
     "execution_count": 9,
     "metadata": {},
     "output_type": "execute_result"
    }
   ],
   "source": [
    "#makes a string into a list then joins it\n",
    "strng= 'strngs'\n",
    "lst = list(strng)\n",
    "''.join(lst)"
   ]
  },
  {
   "cell_type": "code",
   "execution_count": 10,
   "metadata": {
    "collapsed": false
   },
   "outputs": [
    {
     "data": {
      "text/plain": [
       "['string', 'a', 'is', 'this']"
      ]
     },
     "execution_count": 10,
     "metadata": {},
     "output_type": "execute_result"
    }
   ],
   "source": [
    "#splits a string into a list and reverses the list\n",
    "test='this is a string'\n",
    "test.split(' ')[::-1]"
   ]
  },
  {
   "cell_type": "code",
   "execution_count": null,
   "metadata": {
    "collapsed": true
   },
   "outputs": [],
   "source": [
    "#prints a strings letters +1 each time\n",
    "def main():\n",
    "    my_string = raw_input(\"Enter a string for stringSplosion:\")\n",
    "    \n",
    "    strng=''\n",
    "    for number in range(len(my_string)):\n",
    "        strng += my_string[0:number+1]\n",
    "    \n",
    "    return strng\n",
    "main()\n"
   ]
  },
  {
   "cell_type": "code",
   "execution_count": 11,
   "metadata": {
    "collapsed": false
   },
   "outputs": [
    {
     "data": {
      "text/plain": [
       "'zsdfzhzhfzhzdfhzdfztwyzfgzfg'"
      ]
     },
     "execution_count": 11,
     "metadata": {},
     "output_type": "execute_result"
    }
   ],
   "source": [
    "#replaces all a's with z\n",
    "my_strng = 'asdfahahfahadfhadfatwyafgafg'\n",
    "my_strng.replace('a','z')"
   ]
  },
  {
   "cell_type": "code",
   "execution_count": 13,
   "metadata": {
    "collapsed": false
   },
   "outputs": [
    {
     "name": "stdout",
     "output_type": "stream",
     "text": [
      "125\n"
     ]
    }
   ],
   "source": [
    "mystring='asdf9872874oiasasaddiuyadf987644898764'\n",
    "#Adding digits in a string\n",
    "total = 0\n",
    "for index in mystring:\n",
    "    if index.isdigit() == True:\n",
    "        total += int(index)\n",
    "print total"
   ]
  },
  {
   "cell_type": "code",
   "execution_count": 33,
   "metadata": {
    "collapsed": true
   },
   "outputs": [],
   "source": [
    "#simple password login encoding with base64, (password is hello)\n",
    "import base64\n",
    "def login():\n",
    "    passwrd = raw_input(\"Please enter your password: \")\n",
    "    if base64.b64encode(passwrd) == 'aGVsbG8=':\n",
    "        print \"Welcome user! :)\"\n",
    "    else:\n",
    "        print \"Please try again\"\n",
    "        login()\n",
    "        \n",
    "# base64.b64encode('test') to change password"
   ]
  },
  {
   "cell_type": "code",
   "execution_count": 36,
   "metadata": {
    "collapsed": false
   },
   "outputs": [
    {
     "name": "stdout",
     "output_type": "stream",
     "text": [
      "Enter any string: b9b\n",
      "True\n"
     ]
    }
   ],
   "source": [
    "#matches b*b where * can be any character\n",
    "def bobthere():\n",
    "    s = raw_input(\"Enter any string: \")\n",
    "    #{Write your code here\n",
    "    for indx in range(len(s)):\n",
    "        try:\n",
    "            if s[indx]=='b'and s[indx+2]=='b':\n",
    "                print ('True')\n",
    "             \n",
    "                return\n",
    "        except:\n",
    "                pass\n",
    "    \n",
    "    print 'False'    \n",
    "bobthere()\n",
    "    "
   ]
  },
  {
   "cell_type": "code",
   "execution_count": 60,
   "metadata": {
    "collapsed": false
   },
   "outputs": [],
   "source": [
    "strng = 'test'\n",
    "def cipherencode(strng,key):\n",
    "    for letter in strng:\n",
    "        if letter!= ' ':\n",
    "            print chr((ord(str(letter))-97+key)%26+97),\n",
    "        elif letter == ' ':\n",
    "            print ' ',"
   ]
  },
  {
   "cell_type": "code",
   "execution_count": 41,
   "metadata": {
    "collapsed": false
   },
   "outputs": [],
   "source": [
    "def cipherdecode(strng,key):\n",
    "    for letter in strng.lower():\n",
    "        if letter!= ' ':\n",
    "            print chr((ord(str(letter))-97-key)%26+97),\n",
    "        else:\n",
    "            print ' ',"
   ]
  },
  {
   "cell_type": "code",
   "execution_count": 64,
   "metadata": {
    "collapsed": false
   },
   "outputs": [
    {
     "name": "stdout",
     "output_type": "stream",
     "text": [
      "v g u v\n"
     ]
    }
   ],
   "source": [
    "cipherencode(strng,2)\n"
   ]
  },
  {
   "cell_type": "code",
   "execution_count": 63,
   "metadata": {
    "collapsed": false
   },
   "outputs": [
    {
     "name": "stdout",
     "output_type": "stream",
     "text": [
      "t e s t\n"
     ]
    }
   ],
   "source": [
    "cipherdecode('vguv',2)"
   ]
  },
  {
   "cell_type": "code",
   "execution_count": null,
   "metadata": {
    "collapsed": true
   },
   "outputs": [],
   "source": [
    "#Finds the difference of two strings.\n",
    "def main():\n",
    "    str1 = raw_input(\"Enter string1:\")\n",
    "    str2 = raw_input(\"Enter string2:\")\n",
    "   \n",
    "    compareStrings(str1, str2)\n",
    "    "
   ]
  },
  {
   "cell_type": "code",
   "execution_count": null,
   "metadata": {
    "collapsed": true
   },
   "outputs": [],
   "source": [
    "#Make sure the strings are of equal length or the function will not work.\n",
    "def compareStrings(str1, str2):\n",
    "    len_var= max(len(str1),len(str2))\n",
    "    difference = 0\n",
    "    for indx in range(len_var):\n",
    "        difference += abs(ord(str1[indx])-ord(str2[indx]))\n",
    "    if difference == 0:\n",
    "        print('Both strings are equal')\n",
    "    else:\n",
    "        print('Difference between string1 and string2: ')+str(difference)\n",
    "\n",
    "               \n",
    "main()\n"
   ]
  },
  {
   "cell_type": "code",
   "execution_count": null,
   "metadata": {
    "collapsed": true
   },
   "outputs": [],
   "source": [
    "#Copies a string 'n' many times\n",
    "def main():\n",
    "    s = raw_input(\"Enter any string:\")\n",
    "    n = int(raw_input(\"Enter number of copies of string:\"))\n",
    "    print s*n\n",
    "\n",
    "main()\n",
    "    "
   ]
  },
  {
   "cell_type": "code",
   "execution_count": null,
   "metadata": {
    "collapsed": true
   },
   "outputs": [],
   "source": [
    "#Reverses a string and prints every other character.\n",
    "strng = raw_input('What would you like to reverse?')\n",
    "strng[::-2]"
   ]
  }
 ],
 "metadata": {
  "kernelspec": {
   "display_name": "Python 2",
   "language": "python",
   "name": "python2"
  },
  "language_info": {
   "codemirror_mode": {
    "name": "ipython",
    "version": 2
   },
   "file_extension": ".py",
   "mimetype": "text/x-python",
   "name": "python",
   "nbconvert_exporter": "python",
   "pygments_lexer": "ipython2",
   "version": "2.7.10"
  }
 },
 "nbformat": 4,
 "nbformat_minor": 0
}
