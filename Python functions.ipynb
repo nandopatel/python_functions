{
 "cells": [
  {
   "cell_type": "code",
   "execution_count": 2,
   "metadata": {
    "collapsed": false
   },
   "outputs": [
    {
     "name": "stdout",
     "output_type": "stream",
     "text": [
      "Enter the string:hhhhhskjdfhajkhHKJASHDFKAJjhakjsdfh\n"
     ]
    }
   ],
   "source": [
    "a=raw_input(\"Enter the string:\")"
   ]
  },
  {
   "cell_type": "code",
   "execution_count": 8,
   "metadata": {
    "collapsed": false
   },
   "outputs": [
    {
     "name": "stdout",
     "output_type": "stream",
     "text": [
      "hHjJJjnnNnnNNNkkkkLLLooJJHuuJJuujJ\n"
     ]
    }
   ],
   "source": [
    "print a.swapcase()"
   ]
  },
  {
   "cell_type": "code",
   "execution_count": 7,
   "metadata": {
    "collapsed": false
   },
   "outputs": [
    {
     "name": "stdout",
     "output_type": "stream",
     "text": [
      "Please insert a word:andna\n",
      "palindrome\n"
     ]
    }
   ],
   "source": [
    "#prints if user input is a palindrome or not.\n",
    "x=raw_input('Please insert a word:')\n",
    "  \n",
    "y=x[::-1] \n",
    "if x==y: \n",
    "    print('palindrome') \n",
    "else: \n",
    "    print('not a palindrome') \n"
   ]
  },
  {
   "cell_type": "code",
   "execution_count": 3,
   "metadata": {
    "collapsed": false
   },
   "outputs": [
    {
     "name": "stdout",
     "output_type": "stream",
     "text": [
      "Enter your String:Hello this is the longest word\n",
      "longest\n"
     ]
    }
   ],
   "source": [
    "#prints the longest inputted word.\n",
    "strng = raw_input(\"Enter your String:\") \n",
    " \n",
    "#write down your logic here\n",
    "splitstrng = strng.split(' ')\n",
    "max=0\n",
    "for word in splitstrng:\n",
    "    if len(word) > max:\n",
    "        max = len(word)\n",
    "        lngstwrd = word\n",
    "print lngstwrd\n",
    "        \n",
    "        \n",
    "        \n",
    "\n",
    "\n",
    "     \n",
    " \n",
    " \n",
    "#print longest_word \n",
    " \n"
   ]
  },
  {
   "cell_type": "code",
   "execution_count": 8,
   "metadata": {
    "collapsed": false
   },
   "outputs": [
    {
     "data": {
      "text/plain": [
       "u'C:\\\\Users\\\\User'"
      ]
     },
     "execution_count": 8,
     "metadata": {},
     "output_type": "execute_result"
    }
   ],
   "source": [
    "%pwd"
   ]
  },
  {
   "cell_type": "code",
   "execution_count": null,
   "metadata": {
    "collapsed": true
   },
   "outputs": [],
   "source": []
  }
 ],
 "metadata": {
  "kernelspec": {
   "display_name": "Python 2",
   "language": "python",
   "name": "python2"
  },
  "language_info": {
   "codemirror_mode": {
    "name": "ipython",
    "version": 2
   },
   "file_extension": ".py",
   "mimetype": "text/x-python",
   "name": "python",
   "nbconvert_exporter": "python",
   "pygments_lexer": "ipython2",
   "version": "2.7.10"
  }
 },
 "nbformat": 4,
 "nbformat_minor": 0
}
