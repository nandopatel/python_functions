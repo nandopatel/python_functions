{
 "cells": [
  {
   "cell_type": "code",
   "execution_count": null,
   "metadata": {
    "collapsed": true
   },
   "outputs": [],
   "source": [
    "# Swaps the capitals of a string. eg: water = WATER\n",
    "a = raw_input('Enter a string: ')\n",
    "print a.swapcase()"
   ]
  },
  {
   "cell_type": "code",
   "execution_count": 2,
   "metadata": {
    "collapsed": false
   },
   "outputs": [
    {
     "name": "stdout",
     "output_type": "stream",
     "text": [
      "Please insert a word:asdsa\n",
      "Palindrome\n"
     ]
    }
   ],
   "source": [
    "#Prints if user input is a palindrome or not. eg: asdsa = Palindrone, aisdf = Not a Palindrone\n",
    "x = raw_input('Please insert a word: ')\n",
    "  \n",
    "y = x[::-1] \n",
    "if x == y: \n",
    "    print('Palindrome') \n",
    "else: \n",
    "    print('Not a Palindrome') "
   ]
  },
  {
   "cell_type": "code",
   "execution_count": null,
   "metadata": {
    "collapsed": false
   },
   "outputs": [],
   "source": [
    "#Prints the longest word you inputted. eg: 'This is my longest word' = longest\n",
    "strng = raw_input(\"Enter a string:\") \n",
    "\n",
    "splitstrng = strng.split(' ')\n",
    "max=0\n",
    "for word in splitstrng:\n",
    "    if len(word) > max:\n",
    "        max = len(word)\n",
    "        lngstwrd = word\n",
    "print lngstwrd"
   ]
  },
  {
   "cell_type": "code",
   "execution_count": 9,
   "metadata": {
    "collapsed": false
   },
   "outputs": [
    {
     "data": {
      "text/plain": [
       "'strngs'"
      ]
     },
     "execution_count": 9,
     "metadata": {},
     "output_type": "execute_result"
    }
   ],
   "source": [
    "#Makes a string into a list then joins it\n",
    "strng= 'strngs'\n",
    "lst = list(strng)\n",
    "''.join(lst)"
   ]
  },
  {
   "cell_type": "code",
   "execution_count": 6,
   "metadata": {
    "collapsed": false
   },
   "outputs": [
    {
     "name": "stdout",
     "output_type": "stream",
     "text": [
      "Enter a string: jhkhjk\n"
     ]
    },
    {
     "data": {
      "text/plain": [
       "['jhkhjk']"
      ]
     },
     "execution_count": 6,
     "metadata": {},
     "output_type": "execute_result"
    }
   ],
   "source": [
    "#Splits a string into a list and reverses the words in the list. eg: this is a string = ['string', 'a', 'is', 'this'] \n",
    "test= raw_input('Enter a string: ')\n",
    "test.split(' ')[::-1]"
   ]
  },
  {
   "cell_type": "code",
   "execution_count": 8,
   "metadata": {
    "collapsed": false
   },
   "outputs": [
    {
     "name": "stdout",
     "output_type": "stream",
     "text": [
      "Enter a string for stringSplosion:BOOM\n"
     ]
    },
    {
     "data": {
      "text/plain": [
       "'BBOBOOBOOM'"
      ]
     },
     "execution_count": 8,
     "metadata": {},
     "output_type": "execute_result"
    }
   ],
   "source": [
    "#Prints a strings letters +1 each time. eg: BOOM = BBOBOOBOOM\n",
    "def main():\n",
    "    my_string = raw_input(\"Enter a string for stringSplosion: \")\n",
    "    \n",
    "    strng=''\n",
    "    for number in range(len(my_string)):\n",
    "        strng += my_string[0:number+1]\n",
    "    \n",
    "    return strng\n",
    "main()\n"
   ]
  },
  {
   "cell_type": "code",
   "execution_count": 12,
   "metadata": {
    "collapsed": false
   },
   "outputs": [
    {
     "name": "stdout",
     "output_type": "stream",
     "text": [
      "Enter a string: zazazazaz\n"
     ]
    },
    {
     "data": {
      "text/plain": [
       "'zzzzzzzzz'"
      ]
     },
     "execution_count": 12,
     "metadata": {},
     "output_type": "execute_result"
    }
   ],
   "source": [
    "#Replaces all a's with z's. eg: zazazazaz = zzzzzzzzz\n",
    "my_strng = raw_input('Enter a string: ')\n",
    "my_strng.replace('a','z')"
   ]
  },
  {
   "cell_type": "code",
   "execution_count": 15,
   "metadata": {
    "collapsed": false
   },
   "outputs": [
    {
     "name": "stdout",
     "output_type": "stream",
     "text": [
      "Enter a string with numbers: asdoiufh\n",
      "0\n"
     ]
    }
   ],
   "source": [
    "#Sums up all the digits in a string. eg: 9083478907y34796fg = 84\n",
    "mystring = raw_input('Enter a string with numbers: ')\n",
    "total = 0\n",
    "for index in mystring:\n",
    "    if index.isdigit() == True:\n",
    "        total += int(index)\n",
    "print total"
   ]
  },
  {
   "cell_type": "code",
   "execution_count": 1,
   "metadata": {
    "collapsed": false
   },
   "outputs": [],
   "source": [
    "#Simple password login encoding with base64, (password is hello)\n",
    "import base64\n",
    "def login():\n",
    "    passwrd = raw_input(\"Please enter your password: \")\n",
    "    if base64.b64encode(passwrd) == 'aGVsbG8=':\n",
    "        print \"Welcome user! :)\"\n",
    "    else:\n",
    "        print \"Please try again\"\n",
    "        login()\n",
    "\n",
    "#base64.b64encode('test') to change password"
   ]
  },
  {
   "cell_type": "code",
   "execution_count": 2,
   "metadata": {
    "collapsed": false
   },
   "outputs": [
    {
     "name": "stdout",
     "output_type": "stream",
     "text": [
      "Enter any string: adouadshfiab\n",
      "False\n"
     ]
    }
   ],
   "source": [
    "#Matches b*b where * can be any character. eg: b9b = true, hasbdf = false\n",
    "def bobthere():\n",
    "    s = raw_input(\"Enter any string: \")\n",
    "    #{Write your code here\n",
    "    for indx in range(len(s)):\n",
    "        try:\n",
    "            if s[indx]=='b'and s[indx+2]=='b':\n",
    "                print ('True')\n",
    "             \n",
    "                return\n",
    "        except:\n",
    "                pass\n",
    "    \n",
    "    print 'False'    \n",
    "bobthere()\n",
    "    "
   ]
  },
  {
   "cell_type": "code",
   "execution_count": 3,
   "metadata": {
    "collapsed": false
   },
   "outputs": [],
   "source": [
    "strng = 'test'\n",
    "def cipherencode(strng,key):\n",
    "    for letter in strng:\n",
    "        if letter!= ' ':\n",
    "            print chr((ord(str(letter))-97+key)%26+97),\n",
    "        elif letter == ' ':\n",
    "            print ' ',"
   ]
  },
  {
   "cell_type": "code",
   "execution_count": 4,
   "metadata": {
    "collapsed": false
   },
   "outputs": [],
   "source": [
    "def cipherdecode(strng,key):\n",
    "    for letter in strng.lower():\n",
    "        if letter!= ' ':\n",
    "            print chr((ord(str(letter))-97-key)%26+97),\n",
    "        else:\n",
    "            print ' ',"
   ]
  },
  {
   "cell_type": "code",
   "execution_count": 5,
   "metadata": {
    "collapsed": false
   },
   "outputs": [
    {
     "name": "stdout",
     "output_type": "stream",
     "text": [
      "v g u v\n"
     ]
    }
   ],
   "source": [
    "#Encoded string.\n",
    "cipherencode(strng,2)\n"
   ]
  },
  {
   "cell_type": "code",
   "execution_count": 6,
   "metadata": {
    "collapsed": false
   },
   "outputs": [
    {
     "name": "stdout",
     "output_type": "stream",
     "text": [
      "t e s t\n"
     ]
    }
   ],
   "source": [
    "#Decoded string.\n",
    "cipherdecode('vguv',2)"
   ]
  },
  {
   "cell_type": "code",
   "execution_count": 4,
   "metadata": {
    "collapsed": true
   },
   "outputs": [],
   "source": [
    "#THIS FIRST :). Finds the difference of two strings.\n",
    "def main():\n",
    "    str1 = raw_input(\"Enter string1: \")\n",
    "    str2 = raw_input(\"Enter string2: \")\n",
    "   \n",
    "    compareStrings(str1, str2)\n",
    "    "
   ]
  },
  {
   "cell_type": "code",
   "execution_count": null,
   "metadata": {
    "collapsed": false
   },
   "outputs": [],
   "source": [
    "#Make sure the strings are of equal length or the function will not work.\n",
    "def compareStrings(str1, str2):\n",
    "    len_var= max(len(str1),len(str2))\n",
    "    difference = 0\n",
    "    for indx in range(len_var):\n",
    "        difference += abs(ord(str1[indx])-ord(str2[indx]))\n",
    "    if difference == 0:\n",
    "        print('Both strings are equal ')\n",
    "    else:\n",
    "        print('Difference between string1 and string2: ')+str(difference)\n",
    "\n",
    "               \n",
    "main()\n"
   ]
  },
  {
   "cell_type": "code",
   "execution_count": 1,
   "metadata": {
    "collapsed": false
   },
   "outputs": [
    {
     "name": "stdout",
     "output_type": "stream",
     "text": [
      "Enter any string:hello\n",
      "Enter number of copies of string:2\n",
      "hellohello\n"
     ]
    }
   ],
   "source": [
    "#Copies a string 'n' many times.\n",
    "def main():\n",
    "    s = raw_input(\"Enter any string:\")\n",
    "    n = int(raw_input(\"Enter number of copies of string:\"))\n",
    "    print s*n\n",
    "\n",
    "main()\n",
    "    "
   ]
  },
  {
   "cell_type": "code",
   "execution_count": null,
   "metadata": {
    "collapsed": false
   },
   "outputs": [],
   "source": [
    "#Reverses a string and prints every other character.\n",
    "strng = raw_input('What would you like to reverse?')\n",
    "strng[::-2]"
   ]
  },
  {
   "cell_type": "code",
   "execution_count": 1,
   "metadata": {
    "collapsed": false
   },
   "outputs": [
    {
     "name": "stdout",
     "output_type": "stream",
     "text": [
      "1/9/2016 0:17:28\n"
     ]
    }
   ],
   "source": [
    "#Prints date and time.\n",
    "from datetime import datetime\n",
    "now = datetime.now()\n",
    "\n",
    "print '%s/%s/%s %s:%s:%s' % (now.month, now.day, now.year, now.hour, now.minute, now.second)"
   ]
  },
  {
   "cell_type": "code",
   "execution_count": 2,
   "metadata": {
    "collapsed": false
   },
   "outputs": [
    {
     "name": "stdout",
     "output_type": "stream",
     "text": [
      "[100, 90, 80, 70, 60, 50, 40, 30, 20, 10, 0]\n"
     ]
    }
   ],
   "source": [
    "#Prints 0 to 100 backwards\n",
    "to_one_hundred = range(101)\n",
    "# Add your code below!\n",
    "backwards_by_tens = to_one_hundred[::-10]\n",
    "print backwards_by_tens\n"
   ]
  },
  {
   "cell_type": "code",
   "execution_count": 11,
   "metadata": {
    "collapsed": false
   },
   "outputs": [
    {
     "name": "stdout",
     "output_type": "stream",
     "text": [
      "948\n"
     ]
    }
   ],
   "source": [
    "#Prints the maximum of given numbers\n",
    "maximum = max(66,45,948)\n",
    "print maximum"
   ]
  },
  {
   "cell_type": "code",
   "execution_count": 10,
   "metadata": {
    "collapsed": false
   },
   "outputs": [
    {
     "name": "stdout",
     "output_type": "stream",
     "text": [
      "-2\n"
     ]
    }
   ],
   "source": [
    "#Prints the minimum of given numbers\n",
    "minimum = min(-2,0.24,0.23,37)\n",
    "print minimum"
   ]
  },
  {
   "cell_type": "code",
   "execution_count": 6,
   "metadata": {
    "collapsed": false
   },
   "outputs": [
    {
     "name": "stdout",
     "output_type": "stream",
     "text": [
      "42\n"
     ]
    }
   ],
   "source": [
    "#Prints the absolute value of the number\n",
    "absolute = abs(-36)\n",
    "print absolute"
   ]
  },
  {
   "cell_type": "code",
   "execution_count": 8,
   "metadata": {
    "collapsed": false
   },
   "outputs": [
    {
     "name": "stdout",
     "output_type": "stream",
     "text": [
      "<type 'float'>\n",
      "<type 'int'>\n",
      "<type 'str'>\n"
     ]
    }
   ],
   "source": [
    "#Prints the types of data it recieves\n",
    "print type(6.7645)\n",
    "print type(65)\n",
    "print type('hello')"
   ]
  },
  {
   "cell_type": "code",
   "execution_count": null,
   "metadata": {
    "collapsed": true
   },
   "outputs": [],
   "source": []
  }
 ],
 "metadata": {
  "kernelspec": {
   "display_name": "Python 2",
   "language": "python",
   "name": "python2"
  },
  "language_info": {
   "codemirror_mode": {
    "name": "ipython",
    "version": 2
   },
   "file_extension": ".py",
   "mimetype": "text/x-python",
   "name": "python",
   "nbconvert_exporter": "python",
   "pygments_lexer": "ipython2",
   "version": "2.7.10"
  }
 },
 "nbformat": 4,
 "nbformat_minor": 0
}
