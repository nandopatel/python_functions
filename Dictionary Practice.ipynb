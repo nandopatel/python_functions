{
 "cells": [
  {
   "cell_type": "code",
   "execution_count": 27,
   "metadata": {
    "collapsed": true
   },
   "outputs": [],
   "source": [
    "import requests\n",
    "import pandas as pd #imports"
   ]
  },
  {
   "cell_type": "code",
   "execution_count": 28,
   "metadata": {
    "collapsed": false
   },
   "outputs": [
    {
     "name": "stdout",
     "output_type": "stream",
     "text": [
      "[92, 94, 96, 98, 100]\n"
     ]
    }
   ],
   "source": [
    "lst = [x  for x in range(1,101) if x % 2 == 0] #even list\n",
    "f = lst[-5:] #last 5 elements\n",
    "l = lst[:5] #first 5 elements\n",
    "print(sorted(f))"
   ]
  },
  {
   "cell_type": "code",
   "execution_count": 29,
   "metadata": {
    "collapsed": false
   },
   "outputs": [
    {
     "name": "stdout",
     "output_type": "stream",
     "text": [
      "[2, 4, 6, 8, 10, 92, 94, 96, 98, 100]\n"
     ]
    }
   ],
   "source": [
    "l.extend(f)\n",
    "print(l)"
   ]
  },
  {
   "cell_type": "code",
   "execution_count": 30,
   "metadata": {
    "collapsed": false,
    "scrolled": true
   },
   "outputs": [
    {
     "data": {
      "text/plain": [
       "{'A': 65,\n",
       " 'B': 66,\n",
       " 'C': 67,\n",
       " 'D': 68,\n",
       " 'E': 69,\n",
       " 'F': 70,\n",
       " 'G': 71,\n",
       " 'H': 72,\n",
       " 'I': 73,\n",
       " 'J': 74,\n",
       " 'K': 75,\n",
       " 'L': 76,\n",
       " 'M': 77,\n",
       " 'N': 78,\n",
       " 'O': 79,\n",
       " 'P': 80,\n",
       " 'Q': 81,\n",
       " 'R': 82,\n",
       " 'S': 83,\n",
       " 'T': 84,\n",
       " 'U': 85,\n",
       " 'V': 86,\n",
       " 'W': 87,\n",
       " 'X': 88,\n",
       " 'Y': 89,\n",
       " 'Z': 90}"
      ]
     },
     "execution_count": 30,
     "metadata": {},
     "output_type": "execute_result"
    }
   ],
   "source": [
    "dct = {chr(x): x for x in range(65,91)} #dct comprehension for alphabet and their ascii equivalent\n",
    "dct"
   ]
  },
  {
   "cell_type": "code",
   "execution_count": 31,
   "metadata": {
    "collapsed": false
   },
   "outputs": [],
   "source": [
    "dct2 = {\n",
    "    'tomato':2.5,\n",
    "    'juice':4.5,\n",
    "    'coffee':1.3,\n",
    "}"
   ]
  },
  {
   "cell_type": "code",
   "execution_count": 32,
   "metadata": {
    "collapsed": false
   },
   "outputs": [
    {
     "data": {
      "text/plain": [
       "{'coffee': 1.3, 'juice': 4.5, 'tomato': 3}"
      ]
     },
     "execution_count": 32,
     "metadata": {},
     "output_type": "execute_result"
    }
   ],
   "source": [
    "dct2['tomato'] = 3\n",
    "dct2"
   ]
  },
  {
   "cell_type": "code",
   "execution_count": 33,
   "metadata": {
    "collapsed": false
   },
   "outputs": [
    {
     "name": "stdout",
     "output_type": "stream",
     "text": [
      "4\n",
      "2.3\n",
      "5.5\n"
     ]
    }
   ],
   "source": [
    "for k in dct2.keys():\n",
    "    dct2[k]+= 1 #adding one to each item in the dct\n",
    "    print(dct2[k])"
   ]
  },
  {
   "cell_type": "code",
   "execution_count": 34,
   "metadata": {
    "collapsed": false
   },
   "outputs": [
    {
     "data": {
      "text/plain": [
       "{'coffee': 3.3, 'juice': 6.5, 'tomato': 5}"
      ]
     },
     "execution_count": 34,
     "metadata": {},
     "output_type": "execute_result"
    }
   ],
   "source": [
    "{k:v+1 for k,v in dct2.items()}  #adding one to each item in the dct"
   ]
  },
  {
   "cell_type": "code",
   "execution_count": 35,
   "metadata": {
    "collapsed": false
   },
   "outputs": [],
   "source": [
    "lst=pd.read_html('https://en.wikipedia.org/wiki/Oil_painting')  #getting a website with relevant data"
   ]
  },
  {
   "cell_type": "code",
   "execution_count": 36,
   "metadata": {
    "collapsed": false,
    "scrolled": true
   },
   "outputs": [
    {
     "name": "stdout",
     "output_type": "stream",
     "text": [
      "    0                                                  1\n",
      "0 NaN  This article needs additional citations for ve...\n",
      "    0                                                  1\n",
      "0 NaN  Wikibooks has a book on the topic of: Introduc...\n",
      "    0                                                  1\n",
      "0 NaN  Wikimedia Commons has media related to Oil pai...\n",
      "                                                   0  \\\n",
      "0    v t e Early Netherlandish art (ca. 1420s–1530s)   \n",
      "1                        Early Netherlandish artists   \n",
      "2  Active mainly in the Southern Netherlands (mos...   \n",
      "3  Active mainly in the Northern Netherlands (mos...   \n",
      "4                                       Main centres   \n",
      "5                             Pioneering innovations   \n",
      "6                                            General   \n",
      "7                                         Influenced   \n",
      "8                  Notable connoisseurs and scholars   \n",
      "\n",
      "                                                   1  \\\n",
      "0                                                NaN   \n",
      "1  Active mainly in the Southern Netherlands (mos...   \n",
      "2  Luís Alimbrot Alexander Bening Simon Bening Am...   \n",
      "3  Hieronymus Bosch Geertgen tot Sint Jans Jan Jo...   \n",
      "4    Antwerp Bruges Brussels Ghent Tournai The Hague   \n",
      "5  Regular use of oil paints as a principal art m...   \n",
      "6  Early Netherlandish painting Works by Early Ne...   \n",
      "7  Italian Renaissance painting German Renaissanc...   \n",
      "8  Egbert Haverkamp Begemann Till-Holger Borchert...   \n",
      "\n",
      "                                                   2  \\\n",
      "0                                                NaN   \n",
      "1  Active mainly in the Southern Netherlands (mos...   \n",
      "2                                                NaN   \n",
      "3                                                NaN   \n",
      "4                                                NaN   \n",
      "5                                                NaN   \n",
      "6                                                NaN   \n",
      "7                                                NaN   \n",
      "8                                                NaN   \n",
      "\n",
      "                                                   3  \\\n",
      "0                                                NaN   \n",
      "1  Luís Alimbrot Alexander Bening Simon Bening Am...   \n",
      "2                                                NaN   \n",
      "3                                                NaN   \n",
      "4                                                NaN   \n",
      "5                                                NaN   \n",
      "6                                                NaN   \n",
      "7                                                NaN   \n",
      "8                                                NaN   \n",
      "\n",
      "                                                   4  \\\n",
      "0                                                NaN   \n",
      "1  Active mainly in the Northern Netherlands (mos...   \n",
      "2                                                NaN   \n",
      "3                                                NaN   \n",
      "4                                                NaN   \n",
      "5                                                NaN   \n",
      "6                                                NaN   \n",
      "7                                                NaN   \n",
      "8                                                NaN   \n",
      "\n",
      "                                                   5  \n",
      "0                                                NaN  \n",
      "1  Hieronymus Bosch Geertgen tot Sint Jans Jan Jo...  \n",
      "2                                                NaN  \n",
      "3                                                NaN  \n",
      "4                                                NaN  \n",
      "5                                                NaN  \n",
      "6                                                NaN  \n",
      "7                                                NaN  \n",
      "8                                                NaN  \n",
      "                                                   0  \\\n",
      "0  Active mainly in the Southern Netherlands (mos...   \n",
      "1  Active mainly in the Northern Netherlands (mos...   \n",
      "\n",
      "                                                   1  \n",
      "0  Luís Alimbrot Alexander Bening Simon Bening Am...  \n",
      "1  Hieronymus Bosch Geertgen tot Sint Jans Jan Jo...  \n"
     ]
    }
   ],
   "source": [
    "for l in lst: #each line in lst\n",
    "    print(l)"
   ]
  },
  {
   "cell_type": "code",
   "execution_count": 37,
   "metadata": {
    "collapsed": false
   },
   "outputs": [
    {
     "name": "stdout",
     "output_type": "stream",
     "text": [
      "0 1\n",
      "1 1\n",
      "2 1\n",
      "3 9\n",
      "4 2\n"
     ]
    }
   ],
   "source": [
    "for ix,l in enumerate(lst): #list of lists\n",
    "    print(ix,len(l))\n",
    "    \n",
    "    "
   ]
  },
  {
   "cell_type": "code",
   "execution_count": 38,
   "metadata": {
    "collapsed": false
   },
   "outputs": [],
   "source": [
    "for ix in range(len(lst)):\n",
    "    df=lst[2].fillna('')  #removing NAN with ''\n",
    "\n",
    "    dct=df.to_dict()[1]\n",
    "\n",
    "    wikidata={key:value for key,value in dct.items() if len(value)}\n",
    "\n",
    "    datavalues = wikidata.values()\n",
    "\n",
    "    filtered_data = []\n",
    "\n",
    "for words in datavalues:\n",
    "    words = words.split(\" \")\n",
    "    for x in words:\n",
    "        if x.isdigit() == False: #removes numbers from data\n",
    "            filtered_data.append(x) #appending clean data to new list\n",
    "formatted_data = ' '.join(filtered_data) #joining lst to string\n"
   ]
  },
  {
   "cell_type": "code",
   "execution_count": 39,
   "metadata": {
    "collapsed": false,
    "scrolled": false
   },
   "outputs": [
    {
     "name": "stdout",
     "output_type": "stream",
     "text": [
      "\n",
      "This article needs additional citations for verification. Please help improve this article by adding citations to reliable sources. Unsourced material may be challenged and removed. (September 2011) (Learn how and when to remove this template message)\n",
      "\n",
      "Wikibooks has a book on the topic of: Introduction to Art\n",
      "\n",
      "Wikimedia Commons has media related to Oil paintings.\n",
      "v t e Early Netherlandish art (ca. 1420s–1530s)\n",
      "Early Netherlandish artists\n",
      "Active mainly in the Southern Netherlands (mostly present-day Belgium)\n",
      "Active mainly in the Northern Netherlands (mostly present-day Netherlands)\n",
      "Main centres\n",
      "Pioneering innovations\n",
      "General\n",
      "Influenced\n",
      "Notable connoisseurs and scholars\n",
      "\n",
      "Active mainly in the Southern Netherlands (mostly present-day Belgium) Luís Alimbrot Alexander Bening Simon Bening Ambrosius Benson Lancelot Blondeel Aelbert Bouts Dieric Bouts Melchior Broederlam Robert Campin Petrus Christus Pierre Coustain Jacques Daret Gerard David Jean Delemer Jan de Beer Colijn de Coter Jan Gossaert Gerard Horenbout Lucas Horenbout Adriaen Isenbrandt Cornelis Liefrinck Lambert Lombard Simon Marmion Quinten Matsys Hans Memling Joachim Patinir Jan Provoost Aert van den Bossche Hugo van der Goes Vrancke van der Stockt Goswin van der Weyden Rogier van der Weyden Jan van Dornicke Hubert van Eyck Jan van Eyck Justus van Gent Lieven van Lathem Bernard van Orley Jacob van Utrecht Master of Affligem Master of the Antwerp Adoration Master of the Embroidered Foliage Master of the Legend of St. Barbara Master of the Legend of Saint Lucy Master of the Legend of St. Ursula (Bruges) Master of the Legend of the Magdalen Master of the Lille Adoration Master of the Lübeck Bible Master of the Mansi Magdalen Master of the Morrison Triptych Master of the Prodigal Son Master of the View of Ste-Gudule Active mainly in the Northern Netherlands (mostly present-day Netherlands) Hieronymus Bosch Geertgen tot Sint Jans Jan Joest van Calcar Lucas van Leyden Jacob Cornelisz van Oostsanen Master of Alkmaar Master of the Amsterdam Death of the Virgin Master of the Figdor Deposition\n",
      "Luís Alimbrot Alexander Bening Simon Bening Ambrosius Benson Lancelot Blondeel Aelbert Bouts Dieric Bouts Melchior Broederlam Robert Campin Petrus Christus Pierre Coustain Jacques Daret Gerard David Jean Delemer Jan de Beer Colijn de Coter Jan Gossaert Gerard Horenbout Lucas Horenbout Adriaen Isenbrandt Cornelis Liefrinck Lambert Lombard Simon Marmion Quinten Matsys Hans Memling Joachim Patinir Jan Provoost Aert van den Bossche Hugo van der Goes Vrancke van der Stockt Goswin van der Weyden Rogier van der Weyden Jan van Dornicke Hubert van Eyck Jan van Eyck Justus van Gent Lieven van Lathem Bernard van Orley Jacob van Utrecht Master of Affligem Master of the Antwerp Adoration Master of the Embroidered Foliage Master of the Legend of St. Barbara Master of the Legend of Saint Lucy Master of the Legend of St. Ursula (Bruges) Master of the Legend of the Magdalen Master of the Lille Adoration Master of the Lübeck Bible Master of the Mansi Magdalen Master of the Morrison Triptych Master of the Prodigal Son Master of the View of Ste-Gudule\n",
      "Hieronymus Bosch Geertgen tot Sint Jans Jan Joest van Calcar Lucas van Leyden Jacob Cornelisz van Oostsanen Master of Alkmaar Master of the Amsterdam Death of the Virgin Master of the Figdor Deposition\n",
      "Antwerp Bruges Brussels Ghent Tournai The Hague\n",
      "Regular use of oil paints as a principal art medium Oil painting techniques (oil on panel, glaze, wet-on-wet) Genre art (genre painting) Landscape art (world landscape) Portraiture (portrait painting) Naturalism (art) Realism (art)\n",
      "Early Netherlandish painting Works by Early Netherlandish masters Flemish Primitives Arts in the court of Philip the Good Guild of Saint Luke Members of the Guild of Saint Luke Netherlandish art International Gothic Northern Renaissance Netherlandish Renaissance Northern Mannerism Antwerp Mannerism Antwerp school Ghent-Bruges school Adoration of the Magi Nativity of Jesus in art\n",
      "Italian Renaissance painting German Renaissance painting Dutch and Flemish Renaissance painting Dutch Golden Age painting\n",
      "Egbert Haverkamp Begemann Till-Holger Borchert Lorne Campbell Max Jakob Friedländer Craig Harbison Karel van Mander Erwin Panofsky Giorgio Vasari Gustav Friedrich Waagen\n",
      "\n",
      "Active mainly in the Southern Netherlands (mostly present-day Belgium)\n",
      "\n",
      "\n",
      "\n",
      "\n",
      "\n",
      "\n",
      "\n",
      "\n",
      "Luís Alimbrot Alexander Bening Simon Bening Ambrosius Benson Lancelot Blondeel Aelbert Bouts Dieric Bouts Melchior Broederlam Robert Campin Petrus Christus Pierre Coustain Jacques Daret Gerard David Jean Delemer Jan de Beer Colijn de Coter Jan Gossaert Gerard Horenbout Lucas Horenbout Adriaen Isenbrandt Cornelis Liefrinck Lambert Lombard Simon Marmion Quinten Matsys Hans Memling Joachim Patinir Jan Provoost Aert van den Bossche Hugo van der Goes Vrancke van der Stockt Goswin van der Weyden Rogier van der Weyden Jan van Dornicke Hubert van Eyck Jan van Eyck Justus van Gent Lieven van Lathem Bernard van Orley Jacob van Utrecht Master of Affligem Master of the Antwerp Adoration Master of the Embroidered Foliage Master of the Legend of St. Barbara Master of the Legend of Saint Lucy Master of the Legend of St. Ursula (Bruges) Master of the Legend of the Magdalen Master of the Lille Adoration Master of the Lübeck Bible Master of the Mansi Magdalen Master of the Morrison Triptych Master of the Prodigal Son Master of the View of Ste-Gudule\n",
      "\n",
      "\n",
      "\n",
      "\n",
      "\n",
      "\n",
      "\n",
      "\n",
      "Active mainly in the Northern Netherlands (mostly present-day Netherlands)\n",
      "\n",
      "\n",
      "\n",
      "\n",
      "\n",
      "\n",
      "\n",
      "\n",
      "Hieronymus Bosch Geertgen tot Sint Jans Jan Joest van Calcar Lucas van Leyden Jacob Cornelisz van Oostsanen Master of Alkmaar Master of the Amsterdam Death of the Virgin Master of the Figdor Deposition\n",
      "\n",
      "\n",
      "\n",
      "\n",
      "\n",
      "\n",
      "\n",
      "Active mainly in the Southern Netherlands (mostly present-day Belgium)\n",
      "Active mainly in the Northern Netherlands (mostly present-day Netherlands)\n",
      "Luís Alimbrot Alexander Bening Simon Bening Ambrosius Benson Lancelot Blondeel Aelbert Bouts Dieric Bouts Melchior Broederlam Robert Campin Petrus Christus Pierre Coustain Jacques Daret Gerard David Jean Delemer Jan de Beer Colijn de Coter Jan Gossaert Gerard Horenbout Lucas Horenbout Adriaen Isenbrandt Cornelis Liefrinck Lambert Lombard Simon Marmion Quinten Matsys Hans Memling Joachim Patinir Jan Provoost Aert van den Bossche Hugo van der Goes Vrancke van der Stockt Goswin van der Weyden Rogier van der Weyden Jan van Dornicke Hubert van Eyck Jan van Eyck Justus van Gent Lieven van Lathem Bernard van Orley Jacob van Utrecht Master of Affligem Master of the Antwerp Adoration Master of the Embroidered Foliage Master of the Legend of St. Barbara Master of the Legend of Saint Lucy Master of the Legend of St. Ursula (Bruges) Master of the Legend of the Magdalen Master of the Lille Adoration Master of the Lübeck Bible Master of the Mansi Magdalen Master of the Morrison Triptych Master of the Prodigal Son Master of the View of Ste-Gudule\n",
      "Hieronymus Bosch Geertgen tot Sint Jans Jan Joest van Calcar Lucas van Leyden Jacob Cornelisz van Oostsanen Master of Alkmaar Master of the Amsterdam Death of the Virgin Master of the Figdor Deposition\n"
     ]
    }
   ],
   "source": [
    "f = open(\"data1.txt\", \"w\")   #opening a file as write\n",
    "for ix in range(len(lst)):  #appending clean data to new list\n",
    "    lst[ix]=lst[ix].fillna('') \n",
    "    for value in lst[ix].to_dict().values():\n",
    "        for v in value.values():\n",
    "            print(v)\n",
    "            f.write(str(v))  #writing to file\n",
    "f.close()                   #closing file"
   ]
  }
 ],
 "metadata": {
  "kernelspec": {
   "display_name": "Python 3",
   "language": "python",
   "name": "python3"
  },
  "language_info": {
   "codemirror_mode": {
    "name": "ipython",
    "version": 3
   },
   "file_extension": ".py",
   "mimetype": "text/x-python",
   "name": "python",
   "nbconvert_exporter": "python",
   "pygments_lexer": "ipython3",
   "version": "3.5.3"
  }
 },
 "nbformat": 4,
 "nbformat_minor": 2
}
