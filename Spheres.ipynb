{
 "cells": [
  {
   "cell_type": "code",
   "execution_count": 3,
   "metadata": {
    "collapsed": false
   },
   "outputs": [
    {
     "name": "stdout",
     "output_type": "stream",
     "text": [
      "Enter radius: 3\n",
      "Volume of sphere with radius 3 = 113.097335529\n",
      "\n"
     ]
    }
   ],
   "source": [
    "import math\n",
    "def volofsphere(radius):\n",
    "\toutput = (4.0/3)*math.pi*radius**3\n",
    "\tprint \"Volume of sphere with radius {} = {}\\n\".format(radius,output)\n",
    "rad = int(raw_input(\"Enter radius: \"))\n",
    "volofsphere(rad)"
   ]
  },
  {
   "cell_type": "code",
   "execution_count": 4,
   "metadata": {
    "collapsed": false
   },
   "outputs": [
    {
     "name": "stdout",
     "output_type": "stream",
     "text": [
      "Surface Area of sphere with radius 3 = 113.097335529\n",
      "\n"
     ]
    }
   ],
   "source": [
    "def surfarea(radius):\n",
    "\toutput = 4*math.pi*radius**2\n",
    "\tprint \"Surface Area of sphere with radius {} = {}\\n\".format(radius,output)\n",
    "\n",
    "surfarea(rad)"
   ]
  },
  {
   "cell_type": "code",
   "execution_count": null,
   "metadata": {
    "collapsed": true
   },
   "outputs": [],
   "source": []
  }
 ],
 "metadata": {
  "kernelspec": {
   "display_name": "Python 2 (SageMath)",
   "language": "python",
   "name": "python2"
  },
  "language_info": {
   "codemirror_mode": {
    "name": "ipython",
    "version": 2
   },
   "file_extension": ".py",
   "mimetype": "text/x-python",
   "name": "python",
   "nbconvert_exporter": "python",
   "pygments_lexer": "ipython2",
   "version": "2.7.13"
  }
 },
 "nbformat": 4,
 "nbformat_minor": 0
}
