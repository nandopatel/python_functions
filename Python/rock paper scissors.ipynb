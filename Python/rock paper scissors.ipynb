{
 "cells": [
  {
   "cell_type": "code",
   "execution_count": 25,
   "metadata": {
    "collapsed": false
   },
   "outputs": [
    {
     "name": "stdout",
     "output_type": "stream",
     "text": [
      "You are playing Rock, paper, scissors.\n",
      "Select R for Rock, P for Paper, or S for Scissors: P\n",
      "You chose P\n",
      "Computer selecting...\n",
      "The computer chose P\n",
      "Tie\n"
     ]
    }
   ],
   "source": [
    "\"\"\"Rock paper scissors game\"\"\"\n",
    "\n",
    "from random import randint\n",
    "from time import sleep \n",
    "\n",
    "OPTIONS = [\"R\", \"P\", \"S\"]\n",
    "LOSE = \"You lost!\"\n",
    "WIN = \"You win!\"\n",
    "\n",
    "def decide_winner(user_choice, computer_choice):\n",
    "    print \"You chose {}\".format(user_choice)\n",
    "    print \"Computer selecting...\"\n",
    "    sleep(1)\n",
    "    print \"The computer chose {}\".format(computer_choice)\n",
    "    user_choice_index = OPTIONS.index(user_choice)\n",
    "    computer_choice_index = OPTIONS.index(computer_choice)\n",
    "    if user_choice_index == computer_choice_index:\n",
    "        print \"Tie\"\n",
    "    elif user_choice_index == 0 and computer_choice_index == 2:\n",
    "        print WIN\n",
    "    elif user_choice_index == 1 and computer_choice_index == 0:\n",
    "        print WIN\n",
    "    elif user_choice_index == 2 and computer_choice_index == 1:\n",
    "        print WIN\n",
    "    elif user_choice_index == 0 and computer_choice_index == 1:\n",
    "        print LOSE\n",
    "    elif user_choice_index == 1 and computer_choice_index == 2:\n",
    "        print LOSE\n",
    "    elif user_choice_index > 2:\n",
    "        print \"Not valid\"\n",
    "    else:\n",
    "        print LOSE\n",
    "def play_RPS():\n",
    "    print \"You are playing Rock, paper, scissors.\"\n",
    "    user_choice = raw_input(\"Select R for Rock, P for Paper, or S for Scissors: \")\n",
    "    sleep(1)\n",
    "    \n",
    "    user_choice = user_choice.upper()\n",
    "    computer_choice = OPTIONS[randint(0,len(OPTIONS)-1)]\n",
    "    \n",
    "    decide_winner(user_choice, computer_choice)\n",
    "play_RPS()\n",
    "  "
   ]
  },
  {
   "cell_type": "code",
   "execution_count": 12,
   "metadata": {
    "collapsed": false
   },
   "outputs": [
    {
     "name": "stdout",
     "output_type": "stream",
     "text": [
      "You chose R\n",
      "Computer selecting...\n",
      "The computer chose S\n",
      "You win!\n"
     ]
    }
   ],
   "source": [
    "decide_winner(\"R\",\"S\")"
   ]
  }
 ],
 "metadata": {
  "kernelspec": {
   "display_name": "Python 2",
   "language": "python",
   "name": "python2"
  },
  "language_info": {
   "codemirror_mode": {
    "name": "ipython",
    "version": 2
   },
   "file_extension": ".py",
   "mimetype": "text/x-python",
   "name": "python",
   "nbconvert_exporter": "python",
   "pygments_lexer": "ipython2",
   "version": "2.7.10"
  }
 },
 "nbformat": 4,
 "nbformat_minor": 0
}
