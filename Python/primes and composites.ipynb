{
 "cells": [
  {
   "cell_type": "code",
   "execution_count": 21,
   "metadata": {
    "collapsed": false
   },
   "outputs": [
    {
     "name": "stdout",
     "output_type": "stream",
     "text": [
      "Enter a number:7\n",
      "Prime\n"
     ]
    }
   ],
   "source": [
    "n=int(input(\"Enter a number:\"))\n",
    "# write your logic here\n",
    "def prime(n):\n",
    "    for x in range(2,n/2+1):\n",
    "        if n % x == 0:\n",
    "            return \"Composite\"\n",
    "    \n",
    "    return  \"Prime\"\n",
    "\n",
    "print (prime(n))"
   ]
  },
  {
   "cell_type": "code",
   "execution_count": 22,
   "metadata": {
    "collapsed": false
   },
   "outputs": [
    {
     "data": {
      "text/plain": [
       "[(2, 'Prime'),\n",
       " (3, 'Prime'),\n",
       " (4, 'Composite'),\n",
       " (5, 'Prime'),\n",
       " (6, 'Composite'),\n",
       " (7, 'Prime'),\n",
       " (8, 'Composite'),\n",
       " (9, 'Composite'),\n",
       " (10, 'Composite'),\n",
       " (11, 'Prime'),\n",
       " (12, 'Composite'),\n",
       " (13, 'Prime'),\n",
       " (14, 'Composite'),\n",
       " (15, 'Composite'),\n",
       " (16, 'Composite'),\n",
       " (17, 'Prime'),\n",
       " (18, 'Composite'),\n",
       " (19, 'Prime'),\n",
       " (20, 'Composite'),\n",
       " (21, 'Composite'),\n",
       " (22, 'Composite'),\n",
       " (23, 'Prime'),\n",
       " (24, 'Composite'),\n",
       " (25, 'Composite'),\n",
       " (26, 'Composite'),\n",
       " (27, 'Composite'),\n",
       " (28, 'Composite'),\n",
       " (29, 'Prime'),\n",
       " (30, 'Composite'),\n",
       " (31, 'Prime'),\n",
       " (32, 'Composite'),\n",
       " (33, 'Composite'),\n",
       " (34, 'Composite'),\n",
       " (35, 'Composite'),\n",
       " (36, 'Composite'),\n",
       " (37, 'Prime'),\n",
       " (38, 'Composite'),\n",
       " (39, 'Composite'),\n",
       " (40, 'Composite'),\n",
       " (41, 'Prime'),\n",
       " (42, 'Composite'),\n",
       " (43, 'Prime'),\n",
       " (44, 'Composite'),\n",
       " (45, 'Composite'),\n",
       " (46, 'Composite'),\n",
       " (47, 'Prime'),\n",
       " (48, 'Composite'),\n",
       " (49, 'Composite'),\n",
       " (50, 'Composite'),\n",
       " (51, 'Composite'),\n",
       " (52, 'Composite'),\n",
       " (53, 'Prime'),\n",
       " (54, 'Composite'),\n",
       " (55, 'Composite'),\n",
       " (56, 'Composite'),\n",
       " (57, 'Composite'),\n",
       " (58, 'Composite'),\n",
       " (59, 'Prime'),\n",
       " (60, 'Composite'),\n",
       " (61, 'Prime'),\n",
       " (62, 'Composite'),\n",
       " (63, 'Composite'),\n",
       " (64, 'Composite'),\n",
       " (65, 'Composite'),\n",
       " (66, 'Composite'),\n",
       " (67, 'Prime'),\n",
       " (68, 'Composite'),\n",
       " (69, 'Composite'),\n",
       " (70, 'Composite'),\n",
       " (71, 'Prime'),\n",
       " (72, 'Composite'),\n",
       " (73, 'Prime'),\n",
       " (74, 'Composite'),\n",
       " (75, 'Composite'),\n",
       " (76, 'Composite'),\n",
       " (77, 'Composite'),\n",
       " (78, 'Composite'),\n",
       " (79, 'Prime'),\n",
       " (80, 'Composite'),\n",
       " (81, 'Composite'),\n",
       " (82, 'Composite'),\n",
       " (83, 'Prime'),\n",
       " (84, 'Composite'),\n",
       " (85, 'Composite'),\n",
       " (86, 'Composite'),\n",
       " (87, 'Composite'),\n",
       " (88, 'Composite'),\n",
       " (89, 'Prime'),\n",
       " (90, 'Composite'),\n",
       " (91, 'Composite'),\n",
       " (92, 'Composite'),\n",
       " (93, 'Composite'),\n",
       " (94, 'Composite'),\n",
       " (95, 'Composite'),\n",
       " (96, 'Composite'),\n",
       " (97, 'Prime'),\n",
       " (98, 'Composite'),\n",
       " (99, 'Composite')]"
      ]
     },
     "execution_count": 22,
     "metadata": {},
     "output_type": "execute_result"
    }
   ],
   "source": [
    "[(x,prime(x)) for x in range(2,100)]"
   ]
  },
  {
   "cell_type": "code",
   "execution_count": null,
   "metadata": {
    "collapsed": false
   },
   "outputs": [],
   "source": [
    "x = int(input('Enter a number:'))   \n",
    "   \n",
    "def factor(x):\n",
    "    factors = []\n",
    "    for item in range(2,x/2+1):\n",
    "        if x % item == 0:\n",
    "            factors.append(item)\n",
    "    return factors\n",
    " \n",
    "   \n",
    " \n",
    "   \n",
    " \n",
    "   \n",
    " \n",
    "   \n"
   ]
  }
 ],
 "metadata": {
  "kernelspec": {
   "display_name": "Python 2",
   "language": "python",
   "name": "python2"
  },
  "language_info": {
   "codemirror_mode": {
    "name": "ipython",
    "version": 2
   },
   "file_extension": ".py",
   "mimetype": "text/x-python",
   "name": "python",
   "nbconvert_exporter": "python",
   "pygments_lexer": "ipython2",
   "version": "2.7.10"
  }
 },
 "nbformat": 4,
 "nbformat_minor": 0
}
