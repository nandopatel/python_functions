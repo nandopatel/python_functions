{
 "cells": [
  {
   "cell_type": "code",
   "execution_count": 2,
   "metadata": {
    "collapsed": false
   },
   "outputs": [],
   "source": [
    "from time import sleep\n",
    "bal = float(1000)\n",
    "def showbal():\n",
    "    prompt = raw_input(\"Would you like to see your balance (y/n)? \")\n",
    "    if prompt == \"y\":\n",
    "        print '$' + str(bal)\n",
    "    else:\n",
    "        exit\n",
    "\n",
    "def buygroceries():\n",
    "    global bal \n",
    "    prompt1 = raw_input(\"Would you like to buy groceries (y/n)? \")\n",
    "    if prompt1 == \"y\":\n",
    "        bags = raw_input(\"How many bags would you like to buy ($45 each)? \")\n",
    "        total = int(bal) - int(bags)*45\n",
    "        print \"Old Balance: $\" + str(bal)\n",
    "        \n",
    "        print \"New Balance: $\" + str(total)\n",
    "        print \"You spent: $\" + str(bal - total)\n",
    "       \n",
    "        bal = total\n",
    "    else:\n",
    "        exit\n",
    "def work():\n",
    "    global bal\n",
    "    prompt = raw_input(\"Would you like to go to work? (y/n)? \")\n",
    "    if prompt == \"y\":\n",
    "        workrate = raw_input(\"What is your hourly rate? \")\n",
    "        workhours = int(raw_input(\"You work hourly on a rate of $\" + workrate + \". How many hours would you like to work? \"))\n",
    "        takehome = int(workhours)*int(workrate)\n",
    "        print \"At work you made $\" + str(takehome) + \" to spend\"\n",
    "        print \"New Balance: $\" + str(bal + takehome)\n",
    "        bal+=takehome\n",
    "        showbal()\n",
    "    else:\n",
    "        exit\n",
    "    \n"
   ]
  },
  {
   "cell_type": "code",
   "execution_count": null,
   "metadata": {
    "collapsed": false
   },
   "outputs": [
    {
     "name": "stdout",
     "output_type": "stream",
     "text": [
      "Would you like to see your balance (y/n)? n\n"
     ]
    }
   ],
   "source": [
    "showbal()\n"
   ]
  },
  {
   "cell_type": "code",
   "execution_count": 3,
   "metadata": {
    "collapsed": false
   },
   "outputs": [
    {
     "name": "stdout",
     "output_type": "stream",
     "text": [
      "Would you like to buy groceries (y/n)? y\n",
      "How many bags would you like to buy ($45 each)? 4\n",
      "Old Balance: $1000.0\n",
      "New Balance: $820\n",
      "You spent: $180.0\n"
     ]
    }
   ],
   "source": [
    "buygroceries()"
   ]
  },
  {
   "cell_type": "code",
   "execution_count": null,
   "metadata": {
    "collapsed": false
   },
   "outputs": [
    {
     "name": "stdout",
     "output_type": "stream",
     "text": [
      "Would you like to go to work? (y/n)? y\n",
      "What is your hourly rate? 8\n",
      "You work hourly on a rate of $8. How many hours would you like to work? 37\n",
      "At work you made $296 to spend\n",
      "New Balance: $1116\n"
     ]
    }
   ],
   "source": [
    "work()"
   ]
  },
  {
   "cell_type": "code",
   "execution_count": null,
   "metadata": {
    "collapsed": false
   },
   "outputs": [],
   "source": [
    "work()"
   ]
  }
 ],
 "metadata": {
  "kernelspec": {
   "display_name": "Python 2",
   "language": "python",
   "name": "python2"
  },
  "language_info": {
   "codemirror_mode": {
    "name": "ipython",
    "version": 2
   },
   "file_extension": ".py",
   "mimetype": "text/x-python",
   "name": "python",
   "nbconvert_exporter": "python",
   "pygments_lexer": "ipython2",
   "version": "2.7.10"
  }
 },
 "nbformat": 4,
 "nbformat_minor": 0
}
