{
 "cells": [
  {
   "cell_type": "code",
   "execution_count": null,
   "metadata": {
    "collapsed": false
   },
   "outputs": [],
   "source": [
    "#Finds the sum of numbers in a string\n",
    "def main():\n",
    "    s = raw_input(\"Enter a string: \")\n",
    "    num_str = ''\n",
    "    numlst = []\n",
    "    \n",
    "    for digit in s:\n",
    "        if digit.isdigit():\n",
    "            num_str += digit\n",
    "        else:\n",
    "            numlst.append(num_str)\n",
    "            num_str = ''\n",
    "    numlst.append(num_str)\n",
    "    #print [int(digit) for digit in numlst if digit != '']\n",
    "    count = sum([int(digit) for digit in numlst if digit != ''])\n",
    "    print(\"Sum: %d\" % count)\n",
    "main()\n",
    "        \n",
    "            \n"
   ]
  }
 ],
 "metadata": {
  "kernelspec": {
   "display_name": "Python 2",
   "language": "python",
   "name": "python2"
  },
  "language_info": {
   "codemirror_mode": {
    "name": "ipython",
    "version": 2
   },
   "file_extension": ".py",
   "mimetype": "text/x-python",
   "name": "python",
   "nbconvert_exporter": "python",
   "pygments_lexer": "ipython2",
   "version": "2.7.10"
  }
 },
 "nbformat": 4,
 "nbformat_minor": 0
}
