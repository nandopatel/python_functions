{
 "cells": [
  {
   "cell_type": "code",
   "execution_count": 4,
   "metadata": {
    "collapsed": false
   },
   "outputs": [
    {
     "name": "stdout",
     "output_type": "stream",
     "text": [
      "Enter a string:el potoaetuas fell around myt room\n",
      "('No. of words of length', '2', 'are', '1.')\n",
      "('No. of words of length', '3', 'are', '1.')\n",
      "('No. of words of length', '4', 'are', '2.')\n",
      "('No. of words of length', '10', 'are', '1.')\n",
      "('No. of words of length', '6', 'are', '1.')\n"
     ]
    }
   ],
   "source": [
    "#Prints the number of words of that length\n",
    "user_input = raw_input('Enter a string:')\n",
    "splitwords = user_input.split()\n",
    "result = [len(i) for i in splitwords]\n",
    "result2 = [(x,result.count(x)) for x in set(result)]\n",
    "for ix in result2:   \n",
    "    print('No. of words of length',str(ix[0]),'are',str(ix[1])+'.'"
   ]
  },
  {
   "cell_type": "code",
   "execution_count": 3,
   "metadata": {
    "collapsed": false
   },
   "outputs": [
    {
     "data": {
      "text/plain": [
       "[1, 4, 5]"
      ]
     },
     "execution_count": 3,
     "metadata": {},
     "output_type": "execute_result"
    }
   ],
   "source": [
    "[len(x) for x in 'I want steak'.split()]"
   ]
  },
  {
   "cell_type": "code",
   "execution_count": 5,
   "metadata": {
    "collapsed": false
   },
   "outputs": [
    {
     "name": "stdout",
     "output_type": "stream",
     "text": [
      "Enter a string:'Hello i am'\n"
     ]
    }
   ],
   "source": [
    "user_input = input('Enter a string:')\n",
    "splitwords = user_input.split()"
   ]
  },
  {
   "cell_type": "code",
   "execution_count": 12,
   "metadata": {
    "collapsed": false
   },
   "outputs": [],
   "source": [
    "result=[1,1,1,2,3,34,4,4,5]"
   ]
  },
  {
   "cell_type": "code",
   "execution_count": 9,
   "metadata": {
    "collapsed": false
   },
   "outputs": [
    {
     "data": {
      "text/plain": [
       "3"
      ]
     },
     "execution_count": 9,
     "metadata": {},
     "output_type": "execute_result"
    }
   ],
   "source": [
    "[1,1,1,2,3,34,4,4,5].count(1)"
   ]
  },
  {
   "cell_type": "code",
   "execution_count": 16,
   "metadata": {
    "collapsed": false
   },
   "outputs": [
    {
     "data": {
      "text/plain": [
       "[(1, 3), (2, 1), (3, 1), (4, 2), (5, 1), (34, 1)]"
      ]
     },
     "execution_count": 16,
     "metadata": {},
     "output_type": "execute_result"
    }
   ],
   "source": [
    "[(x,result.count(x)) for x in set([1,1,1,2,3,34,4,4,5])]"
   ]
  },
  {
   "cell_type": "code",
   "execution_count": 10,
   "metadata": {
    "collapsed": false
   },
   "outputs": [
    {
     "name": "stdout",
     "output_type": "stream",
     "text": [
      "Enter a string:'will i go to the shops today'\n",
      "('No. of words of length', '1', 'are', '1.')\n",
      "('No. of words of length', '2', 'are', '2.')\n",
      "('No. of words of length', '3', 'are', '1.')\n",
      "('No. of words of length', '4', 'are', '1.')\n",
      "('No. of words of length', '5', 'are', '2.')\n"
     ]
    }
   ],
   "source": [
    "user_input = input('Enter a string:')\n",
    "splitwords = user_input.split()\n",
    "result = []\n",
    "for i in splitwords:\n",
    "    result.append(len(i))\n",
    "for i in set(result):\n",
    "    print('No. of words of length',str(i),'are',str(result.count(i))+'.')\n",
    "    \n",
    "\n"
   ]
  }
 ],
 "metadata": {
  "kernelspec": {
   "display_name": "Python 2",
   "language": "python",
   "name": "python2"
  },
  "language_info": {
   "codemirror_mode": {
    "name": "ipython",
    "version": 2
   },
   "file_extension": ".py",
   "mimetype": "text/x-python",
   "name": "python",
   "nbconvert_exporter": "python",
   "pygments_lexer": "ipython2",
   "version": "2.7.10"
  }
 },
 "nbformat": 4,
 "nbformat_minor": 0
}
