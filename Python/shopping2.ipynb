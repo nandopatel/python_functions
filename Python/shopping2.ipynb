{
 "cells": [
  {
   "cell_type": "code",
   "execution_count": 5,
   "metadata": {
    "collapsed": false
   },
   "outputs": [],
   "source": [
    "from time import sleep\n",
    "bal = float(1000)\n",
    "def showbal():\n",
    "    prompt = raw_input(\"Would you like to see your balance (y/n)? \")\n",
    "    if prompt == \"y\":\n",
    "        print '$' + str(bal)\n",
    "    else:\n",
    "        exit\n",
    "\n",
    "def buygroceries():\n",
    "    prompt1 = raw_input(\"Would you like to buy groceries (y/n)? \")\n",
    "    if prompt1 == \"y\":\n",
    "        bags = raw_input(\"How many bags would you like to buy ($45 each)? \")\n",
    "        total = int(bal) - int(bags)*45\n",
    "        print \"Old Balance: $\" + str(bal)\n",
    "        print \"New Balance: $\" + str(total)\n",
    "        print \"You spent: $\" + str(bal - total)\n",
    "    \n",
    "    else:\n",
    "        exit\n",
    "\n",
    "    \n",
    "    "
   ]
  },
  {
   "cell_type": "code",
   "execution_count": 2,
   "metadata": {
    "collapsed": false
   },
   "outputs": [
    {
     "name": "stdout",
     "output_type": "stream",
     "text": [
      "Would you like to see your balance (y/n)? y\n",
      "$1000.0\n"
     ]
    }
   ],
   "source": [
    "showbal()"
   ]
  },
  {
   "cell_type": "code",
   "execution_count": 3,
   "metadata": {
    "collapsed": false
   },
   "outputs": [
    {
     "name": "stdout",
     "output_type": "stream",
     "text": [
      "Would you like to buy groceries (y/n)? y\n",
      "How many bags would you like to buy ($45 each)? 2\n",
      "Old Balance: $1000.0\n",
      "New Balance: $910\n"
     ]
    }
   ],
   "source": [
    "buygroceries()"
   ]
  },
  {
   "cell_type": "code",
   "execution_count": null,
   "metadata": {
    "collapsed": true
   },
   "outputs": [],
   "source": []
  }
 ],
 "metadata": {
  "kernelspec": {
   "display_name": "Python 2",
   "language": "python",
   "name": "python2"
  },
  "language_info": {
   "codemirror_mode": {
    "name": "ipython",
    "version": 2
   },
   "file_extension": ".py",
   "mimetype": "text/x-python",
   "name": "python",
   "nbconvert_exporter": "python",
   "pygments_lexer": "ipython2",
   "version": "2.7.10"
  }
 },
 "nbformat": 4,
 "nbformat_minor": 0
}
