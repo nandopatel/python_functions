{
 "cells": [
  {
   "cell_type": "code",
   "execution_count": 1,
   "metadata": {
    "collapsed": false
   },
   "outputs": [
    {
     "name": "stdout",
     "output_type": "stream",
     "text": [
      "Collecting bokeh\n",
      "  Downloading bokeh-0.11.1.tar.gz (3.4MB)\n",
      "Requirement already satisfied (use --upgrade to upgrade): six>=1.5.2 in c:\\python27\\lib\\site-packages (from bokeh)\n",
      "Requirement already satisfied (use --upgrade to upgrade): requests>=1.2.3 in c:\\python27\\lib\\site-packages (from bokeh)\n",
      "Collecting PyYAML>=3.10 (from bokeh)\n",
      "  Downloading PyYAML-3.11.zip (371kB)\n",
      "Requirement already satisfied (use --upgrade to upgrade): python-dateutil>=2.1 in c:\\python27\\lib\\site-packages (from bokeh)\n",
      "Requirement already satisfied (use --upgrade to upgrade): Jinja2>=2.7 in c:\\python27\\lib\\site-packages (from bokeh)\n",
      "Requirement already satisfied (use --upgrade to upgrade): numpy>=1.7.1 in c:\\python27\\lib\\site-packages (from bokeh)\n",
      "Collecting tornado>=4.3 (from bokeh)\n",
      "  Downloading tornado-4.3.tar.gz (450kB)\n",
      "Collecting futures>=3.0.3 (from bokeh)\n",
      "  Downloading futures-3.0.5-py2-none-any.whl\n",
      "Requirement already satisfied (use --upgrade to upgrade): MarkupSafe in c:\\python27\\lib\\site-packages (from Jinja2>=2.7->bokeh)\n",
      "Requirement already satisfied (use --upgrade to upgrade): backports.ssl-match-hostname in c:\\python27\\lib\\site-packages (from tornado>=4.3->bokeh)\n",
      "Collecting singledispatch (from tornado>=4.3->bokeh)\n",
      "  Downloading singledispatch-3.4.0.3-py2.py3-none-any.whl\n",
      "Requirement already satisfied (use --upgrade to upgrade): certifi in c:\\python27\\lib\\site-packages (from tornado>=4.3->bokeh)\n",
      "Collecting backports-abc>=0.4 (from tornado>=4.3->bokeh)\n",
      "  Downloading backports_abc-0.4-py2.py3-none-any.whl\n",
      "Building wheels for collected packages: bokeh, PyYAML, tornado\n",
      "  Running setup.py bdist_wheel for bokeh\n",
      "  Stored in directory: C:\\Users\\User\\AppData\\Local\\pip\\Cache\\wheels\\40\\c2\\ab\\534eebe53eb5910e3f13185d6a16c7bdd9b6e0928ca902b6ed\n",
      "  Running setup.py bdist_wheel for PyYAML\n",
      "  Stored in directory: C:\\Users\\User\\AppData\\Local\\pip\\Cache\\wheels\\4a\\bf\\14\\d79994d19a59d4f73efdafb8682961f582d45ed6b459420346\n",
      "  Running setup.py bdist_wheel for tornado\n",
      "  Stored in directory: C:\\Users\\User\\AppData\\Local\\pip\\Cache\\wheels\\df\\20\\c7\\38911d3d7ac9ae3c6c1b73f01bc61d8fdb46c7fad1a720d394\n",
      "Successfully built bokeh PyYAML tornado\n",
      "Installing collected packages: PyYAML, singledispatch, backports-abc, tornado, futures, bokeh\n",
      "  Found existing installation: tornado 4.2.1\n",
      "    Uninstalling tornado-4.2.1:\n",
      "      Successfully uninstalled tornado-4.2.1\n",
      "Successfully installed PyYAML-3.11 backports-abc-0.4 bokeh-0.11.1 futures-3.0.5 singledispatch-3.4.0.3 tornado-4.3\n"
     ]
    },
    {
     "name": "stderr",
     "output_type": "stream",
     "text": [
      "You are using pip version 7.1.0, however version 8.1.2 is available.\n",
      "You should consider upgrading via the 'python -m pip install --upgrade pip' command.\n"
     ]
    }
   ],
   "source": [
    "!pip install bokeh"
   ]
  },
  {
   "cell_type": "code",
   "execution_count": 118,
   "metadata": {
    "collapsed": true
   },
   "outputs": [],
   "source": [
    "from bokeh.plotting import figure, output_file, show\n"
   ]
  },
  {
   "cell_type": "code",
   "execution_count": 139,
   "metadata": {
    "collapsed": false
   },
   "outputs": [],
   "source": [
    "x= range(-10,11)\n",
    "y=[s**2 for s in x] \n",
    "zeroindex = y.index(0)\n",
    "\n",
    "\n",
    "\n",
    "lst2=[y*-1 for y in lst]\n",
    "\n",
    "y=lst[::-1]+lst2"
   ]
  },
  {
   "cell_type": "code",
   "execution_count": 147,
   "metadata": {
    "collapsed": true
   },
   "outputs": [],
   "source": [
    "p = figure()"
   ]
  },
  {
   "cell_type": "code",
   "execution_count": 148,
   "metadata": {
    "collapsed": false
   },
   "outputs": [
    {
     "data": {
      "text/plain": [
       "<bokeh.models.renderers.GlyphRenderer at 0x6980f30>"
      ]
     },
     "execution_count": 148,
     "metadata": {},
     "output_type": "execute_result"
    }
   ],
   "source": [
    "p.line(x,y, line_width=2)"
   ]
  },
  {
   "cell_type": "code",
   "execution_count": 149,
   "metadata": {
    "collapsed": false
   },
   "outputs": [
    {
     "name": "stderr",
     "output_type": "stream",
     "text": [
      "ERROR:C:\\Python27\\lib\\site-packages\\bokeh\\core\\validation\\check.pyc:E-1000 (COLUMN_LENGTHS): ColumnDataSource column lengths are not all the same: ColumnDataSource, ViewModel:ColumnDataSource, ref _id: dafa3c2c-6e25-440d-8395-278b7ed93a2a\n",
      "ERROR:C:\\Python27\\lib\\site-packages\\bokeh\\core\\validation\\check.pyc:E-1000 (COLUMN_LENGTHS): ColumnDataSource column lengths are not all the same: ColumnDataSource, ViewModel:ColumnDataSource, ref _id: f89bfa95-b204-4841-8eb8-70a73748903f\n"
     ]
    }
   ],
   "source": [
    "show(p)"
   ]
  },
  {
   "cell_type": "code",
   "execution_count": 145,
   "metadata": {
    "collapsed": false
   },
   "outputs": [],
   "source": [
    "x=range(10)+range(10)"
   ]
  },
  {
   "cell_type": "code",
   "execution_count": 146,
   "metadata": {
    "collapsed": false
   },
   "outputs": [
    {
     "data": {
      "text/plain": [
       "[0, 1, 2, 3, 4, 5, 6, 7, 8, 9, 0, 1, 2, 3, 4, 5, 6, 7, 8, 9]"
      ]
     },
     "execution_count": 146,
     "metadata": {},
     "output_type": "execute_result"
    }
   ],
   "source": [
    "x"
   ]
  },
  {
   "cell_type": "code",
   "execution_count": 9,
   "metadata": {
    "collapsed": true
   },
   "outputs": [],
   "source": [
    "from bokeh.plotting import figure, output_file, show\n",
    "\n",
    "# prepare some data\n",
    "x = [1, 2, 3, 4, 5]\n",
    "y = [6, 7, 2, 4, 5]\n",
    "\n",
    "# output to static HTML file\n",
    "output_file(\"lines.html\", title=\"line plot example\")\n",
    "\n",
    "# create a new plot with a title and axis labels\n",
    "p = figure(title=\"simple line example\", x_axis_label='x', y_axis_label='y')\n",
    "\n",
    "# add a line renderer with legend and line thickness\n",
    "p.line(x, y, legend=\"Temp.\", line_width=2)\n",
    "\n",
    "# show the results\n",
    "show(p)"
   ]
  },
  {
   "cell_type": "code",
   "execution_count": 153,
   "metadata": {
    "collapsed": false
   },
   "outputs": [],
   "source": [
    "data=\"\"\"73167176531330624919225119674426574742355349194934\n",
    "96983520312774506326239578318016984801869478851843\n",
    "85861560789112949495459501737958331952853208805511\n",
    "12540698747158523863050715693290963295227443043557\n",
    "66896648950445244523161731856403098711121722383113\n",
    "62229893423380308135336276614282806444486645238749\n",
    "30358907296290491560440772390713810515859307960866\n",
    "7017242708792274921901699720888093776\n",
    "65727333001053367881220235421809751254540594752243\n",
    "52584907711670556013604839586446706324415722155397\n",
    "53697817977846174064955149290862569321978468622482\n",
    "83972241375657056057490261407972968652414535100474\n",
    "82166370484403199890008895243450658541227588666881\n",
    "16427171479924442928230863465674813919123162824586\n",
    "17866458359124566529476545682848912883142607690042\n",
    "24219022671055626321111109370544217506941658960408\n",
    "07198403850962455444362981230987879927244284909188\n",
    "84580156166097919133875499200524063689912560717606\n",
    "05886116467109405077541002256983155200055935729725\n",
    "71636269561882670428252483600823257530420752963450\"\"\"\n",
    "lst=data.split('\\n')\n",
    "\n",
    "1218839987979"
   ]
  },
  {
   "cell_type": "code",
   "execution_count": 168,
   "metadata": {
    "collapsed": false
   },
   "outputs": [
    {
     "data": {
      "text/plain": [
       "['7__67_765_____6__9_9__5__967___657_7___55__9_9_9__',\n",
       " '9698_5_____77_5_6__6__9578__8__698_8__869_7885_8__',\n",
       " '8586_56_789___9_9_95_595__7_7958___95_85___88_55__',\n",
       " '__5__6987_7_585__86__5_7_569__9_96__95__7______557',\n",
       " '668966_895___5___5___6_7__856____987_____7___8____',\n",
       " '6___989_____8___8__5__6_766___8_8_6____866_5__87_9',\n",
       " '___589_7_96_9__9_56____77__9_7__8__5_5859__796_866',\n",
       " '7__7___7___88_9987979_879__7_9__9__6997__888_9_776',\n",
       " '657_7_______5__6788______5___8_975__5_5__59_75____',\n",
       " '5_58_9_77__67_556___6__8_9586__67_6_____57___55_97',\n",
       " '5_6978_79778_6_7__6_955__9_9_86_569___978_686___8_',\n",
       " '8_97_____75657_56_57_9__6___797_96865____5_5____7_',\n",
       " '8__66_7__8_____9989___8895____5_6585____758866688_',\n",
       " '_6__7_7__799_____9_8___86__6567_8__9_9____6_8__586',\n",
       " '_7866_58_59___5665_9_765_568_8_89__88____6_769____',\n",
       " '____9___67__556_6________9_7_5____75_69__65896___8',\n",
       " '_7_98___85_96__55____6_98____9878799_7____8_9_9_88',\n",
       " '8_58__56_66_979_9___875_99___5___6_6899__56_7_76_6',\n",
       " '_5886__6_67__9__5_775______5698__55____559_57_97_5',\n",
       " '7_6_6_6956_88_67___8_5__8_6__8___575_____75_96__5_']"
      ]
     },
     "execution_count": 168,
     "metadata": {},
     "output_type": "execute_result"
    }
   ],
   "source": [
    "data.replace('0','_').replace('1','_').replace('2','_').replace('3','_').replace('4','_').split('\\n')\n"
   ]
  },
  {
   "cell_type": "code",
   "execution_count": 175,
   "metadata": {
    "collapsed": false
   },
   "outputs": [
    {
     "data": {
      "text/plain": [
       "'1*2*1*8*8*3*9*9*8*7*9*7*9'"
      ]
     },
     "execution_count": 175,
     "metadata": {},
     "output_type": "execute_result"
    }
   ],
   "source": [
    "\"1 2 1 8 8 3 9 9 8 7 9 7 9\".replace(\" \",\"*\")"
   ]
  },
  {
   "cell_type": "code",
   "execution_count": 176,
   "metadata": {
    "collapsed": false
   },
   "outputs": [
    {
     "data": {
      "text/plain": [
       "987614208"
      ]
     },
     "execution_count": 176,
     "metadata": {},
     "output_type": "execute_result"
    }
   ],
   "source": [
    "1*2*1*8*8*3*9*9*8*7*9*7*9"
   ]
  },
  {
   "cell_type": "code",
   "execution_count": 177,
   "metadata": {
    "collapsed": false
   },
   "outputs": [
    {
     "data": {
      "text/plain": [
       "'9*8*1*2*3*0*9*8*7*8*7*9*9'"
      ]
     },
     "execution_count": 177,
     "metadata": {},
     "output_type": "execute_result"
    }
   ],
   "source": [
    "\"9 8 1 2 3 0 9 8 7 8 7 9 9\".replace(\" \",\"*\")"
   ]
  },
  {
   "cell_type": "code",
   "execution_count": 178,
   "metadata": {
    "collapsed": false
   },
   "outputs": [
    {
     "data": {
      "text/plain": [
       "0"
      ]
     },
     "execution_count": 178,
     "metadata": {},
     "output_type": "execute_result"
    }
   ],
   "source": [
    "9*8*1*2*3*0*9*8*7*8*7*9*9"
   ]
  },
  {
   "cell_type": "code",
   "execution_count": 216,
   "metadata": {
    "collapsed": true
   },
   "outputs": [],
   "source": [
    "maximum=0\n",
    "def product(digits):\n",
    "        return eval('*'.join(list(digits)))"
   ]
  },
  {
   "cell_type": "code",
   "execution_count": 198,
   "metadata": {
    "collapsed": false
   },
   "outputs": [
    {
     "data": {
      "text/plain": [
       "462944160"
      ]
     },
     "execution_count": 198,
     "metadata": {},
     "output_type": "execute_result"
    }
   ],
   "source": [
    "product(\"9791913387549\")"
   ]
  },
  {
   "cell_type": "code",
   "execution_count": 217,
   "metadata": {
    "collapsed": false
   },
   "outputs": [],
   "source": [
    "for line in data.split('\\n'):\n",
    "    for x in range(0,len(line)):\n",
    "        resp = product(str(line[x:x+14]))\n",
    "        if resp > maximum:\n",
    "            maximum = resp"
   ]
  },
  {
   "cell_type": "code",
   "execution_count": 218,
   "metadata": {
    "collapsed": false
   },
   "outputs": [
    {
     "data": {
      "text/plain": [
       "33443020800L"
      ]
     },
     "execution_count": 218,
     "metadata": {},
     "output_type": "execute_result"
    }
   ],
   "source": [
    "maximum"
   ]
  },
  {
   "cell_type": "code",
   "execution_count": null,
   "metadata": {
    "collapsed": true
   },
   "outputs": [],
   "source": [
    "5377010688"
   ]
  }
 ],
 "metadata": {
  "kernelspec": {
   "display_name": "Python 2",
   "language": "python",
   "name": "python2"
  },
  "language_info": {
   "codemirror_mode": {
    "name": "ipython",
    "version": 2
   },
   "file_extension": ".py",
   "mimetype": "text/x-python",
   "name": "python",
   "nbconvert_exporter": "python",
   "pygments_lexer": "ipython2",
   "version": "2.7.10"
  }
 },
 "nbformat": 4,
 "nbformat_minor": 0
}
