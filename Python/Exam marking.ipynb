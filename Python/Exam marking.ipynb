{
 "cells": [
  {
   "cell_type": "code",
   "execution_count": 8,
   "metadata": {
    "collapsed": false,
    "scrolled": false
   },
   "outputs": [
    {
     "name": "stdout",
     "output_type": "stream",
     "text": [
      "Enter your marks:4\n",
      "Enter total marks:7\n",
      "57\n",
      "%\n"
     ]
    }
   ],
   "source": [
    "x=input(\"Enter your marks:\") \n",
    "y=input(\"Enter total marks:\")  \n",
    "\n",
    "# write a function \"percent()\" here to calculate percentage.  \n",
    "def percent(value,total):\n",
    "    return int(float(value)/float(total)*100)\n",
    "\n",
    "print(percent(x,y))\n",
    "print \"%\"\n",
    "  \n"
   ]
  }
 ],
 "metadata": {
  "kernelspec": {
   "display_name": "Python 2",
   "language": "python",
   "name": "python2"
  },
  "language_info": {
   "codemirror_mode": {
    "name": "ipython",
    "version": 2
   },
   "file_extension": ".py",
   "mimetype": "text/x-python",
   "name": "python",
   "nbconvert_exporter": "python",
   "pygments_lexer": "ipython2",
   "version": "2.7.10"
  }
 },
 "nbformat": 4,
 "nbformat_minor": 0
}
