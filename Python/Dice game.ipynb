{
 "cells": [
  {
   "cell_type": "code",
   "execution_count": 2,
   "metadata": {
    "collapsed": false
   },
   "outputs": [
    {
     "name": "stdout",
     "output_type": "stream",
     "text": [
      "Choose how many sides are on your dice: 6\n",
      "The max guess value is equal to 12\n",
      "Your guess: 7\n",
      "Rolling...\n",
      "The First roll is 4 and the second roll is 5\n",
      "Result...\n",
      "You lose...\n"
     ]
    }
   ],
   "source": [
    "from random import randint\n",
    "from time import sleep\n",
    "\"\"\"Dice Game\"\"\"\n",
    "def get_user_guess():\n",
    "  user_guess = int(raw_input(\"Your guess: \"))\n",
    "  return user_guess\n",
    "def number_of_sides():\n",
    "  return raw_input(\"Choose how many sides are on your dice: \")\n",
    "  \n",
    "def roll_dice():\n",
    "  sides = int(number_of_sides())\n",
    "  first_roll = randint(1,sides)\n",
    "  second_roll = randint(1,sides)\n",
    "  max_val = sides*2\n",
    "  \n",
    "  print \"The max guess value is equal to \" + str(max_val)\n",
    "  sleep(1)\n",
    "  user_guess = get_user_guess() \n",
    "  \n",
    "  if user_guess > sides*2:\n",
    "    print \"Your guess is invalid\"\n",
    "    return exit\n",
    "  else:\n",
    "    print \"Rolling...\"\n",
    "    sleep(2)\n",
    "    print\t\"The First roll is {} and the second roll is {}\".format(first_roll,second_roll)\n",
    "    sleep(1)\n",
    "    total_roll = first_roll + second_roll\n",
    "    print \"Result...\"\n",
    "    sleep(1)\n",
    "    if user_guess > total_roll:\n",
    "    \tprint \"You have won, congratualtions!\"\n",
    "    else:\n",
    "        print \"You lose...\"\n",
    "roll_dice()\n",
    "    "
   ]
  }
 ],
 "metadata": {
  "kernelspec": {
   "display_name": "Python 2",
   "language": "python",
   "name": "python2"
  },
  "language_info": {
   "codemirror_mode": {
    "name": "ipython",
    "version": 2
   },
   "file_extension": ".py",
   "mimetype": "text/x-python",
   "name": "python",
   "nbconvert_exporter": "python",
   "pygments_lexer": "ipython2",
   "version": "2.7.10"
  }
 },
 "nbformat": 4,
 "nbformat_minor": 0
}
