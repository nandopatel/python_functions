{
 "cells": [
  {
   "cell_type": "code",
   "execution_count": null,
   "metadata": {
    "collapsed": false
   },
   "outputs": [],
   "source": [
    "name=input(\"Enter your name:\") \n",
    "age=int(input(\"Enter your age:\")) \n",
    "  \n",
    "def introduce(name,age):\n",
    "    if age == 0:\n",
    "        print (\"My name is {}.My age is secret.\".format(name))\n",
    "    else:\n",
    "        print (\"My name is {}.I am {} years old.\".format(name,age))\n",
    "        \n",
    "print(introduce(name,age))  \n"
   ]
  }
 ],
 "metadata": {
  "kernelspec": {
   "display_name": "Python 2",
   "language": "python",
   "name": "python2"
  },
  "language_info": {
   "codemirror_mode": {
    "name": "ipython",
    "version": 2
   },
   "file_extension": ".py",
   "mimetype": "text/x-python",
   "name": "python",
   "nbconvert_exporter": "python",
   "pygments_lexer": "ipython2",
   "version": "2.7.10"
  }
 },
 "nbformat": 4,
 "nbformat_minor": 0
}
