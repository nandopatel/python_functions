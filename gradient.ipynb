{
 "cells": [
  {
   "cell_type": "code",
   "execution_count": 3,
   "metadata": {
    "collapsed": false
   },
   "outputs": [],
   "source": [
    "#Cuts of a float which has many decimal points to just 4\n",
    "def fourdecimalpoints(n):\n",
    "    try:\n",
    "        decimal= str(n).index('.')\n",
    "        return str(n)[:decimal+5]\n",
    "    except:\n",
    "        pass\n",
    "#Asks for co-odinates of a line and finds the gradient of the line aswell as showing a nice graph    \n",
    "def gradient(x1='',x2='',y1='',y2=''):\n",
    "    if x1 == '':\n",
    "\n",
    "        y1= float(raw_input(\"What is the 1st y axis co-odinate\"))\n",
    "        y2= float(raw_input(\"What is the 2nd y axis co-odinate\"))\n",
    "        x1= float(raw_input(\"What is the 1st x axis co-odinate\"))\n",
    "        x2= float(raw_input(\"What is the 2nd x axis co-odinate\"))\n",
    "    \n",
    "    m = float(x2 - x1) / (y2 - y1) \n",
    "    import pylab\n",
    "    import numpy as np\n",
    "    %matplotlib inline \n",
    "\n",
    "    x = np.linspace(-10, 10, 100)  # 100 evenly-spaced values from 0 to 50\n",
    "    \n",
    "    pylab.plot(m*x+y1)\n",
    "    print 'The Gradient/slope of the line is {}'.format(fourdecimalpoints(m))\n",
    "    print 'The equation of the line is y={}x+{}'.format(fourdecimalpoints(m),fourdecimalpoints(y1))\n"
   ]
  },
  {
   "cell_type": "code",
   "execution_count": 4,
   "metadata": {
    "collapsed": false,
    "scrolled": true
   },
   "outputs": [
    {
     "name": "stdout",
     "output_type": "stream",
     "text": [
      "What is the 1st y axis co-odinate6\n",
      "What is the 2nd y axis co-odinate9\n",
      "What is the 1st x axis co-odinate4\n",
      "What is the 2nd x axis co-odinate7\n",
      "The Gradient/slope of the line is 1.0\n",
      "The equation of the line is y=1.0x+6.0\n"
     ]
    },
    {
     "data": {
      "image/png": "[encoded data removed]",
      "text/plain": [
       "<matplotlib.figure.Figure at 0x5bee9d0>"
      ]
     },
     "metadata": {},
     "output_type": "display_data"
    }
   ],
   "source": [
    "gradient()"
   ]
  },
  {
   "cell_type": "code",
   "execution_count": 5,
   "metadata": {
    "collapsed": false
   },
   "outputs": [
    {
     "data": {
      "text/plain": [
       "'1.3141'"
      ]
     },
     "execution_count": 5,
     "metadata": {},
     "output_type": "execute_result"
    }
   ],
   "source": [
    "fourdecimalpoints(1.3141568293749)"
   ]
  },
  {
   "cell_type": "code",
   "execution_count": 11,
   "metadata": {
    "collapsed": false
   },
   "outputs": [
    {
     "data": {
      "image/png": "[encoded data removed]",
      "text/plain": [
       "<matplotlib.figure.Figure at 0x3644a30>"
      ]
     },
     "metadata": {},
     "output_type": "display_data"
    }
   ],
   "source": [
    "import matplotlib.pyplot as plt\n",
    "plt.plot(x*5)\n",
    "plt.ylabel('some numbers')\n",
    "plt.show()"
   ]
  },
  {
   "cell_type": "code",
   "execution_count": null,
   "metadata": {
    "collapsed": true
   },
   "outputs": [],
   "source": []
  }
 ],
 "metadata": {
  "kernelspec": {
   "display_name": "Python 2",
   "language": "python",
   "name": "python2"
  },
  "language_info": {
   "codemirror_mode": {
    "name": "ipython",
    "version": 2
   },
   "file_extension": ".py",
   "mimetype": "text/x-python",
   "name": "python",
   "nbconvert_exporter": "python",
   "pygments_lexer": "ipython2",
   "version": "2.7.10"
  }
 },
 "nbformat": 4,
 "nbformat_minor": 0
}
