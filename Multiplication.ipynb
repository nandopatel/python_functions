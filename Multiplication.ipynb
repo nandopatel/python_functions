{
 "cells": [
  {
   "cell_type": "code",
   "execution_count": 4,
   "metadata": {
    "collapsed": false
   },
   "outputs": [
    {
     "name": "stdout",
     "output_type": "stream",
     "text": [
      "Enter a multiplication table: 34\n",
      "Enter how far you would like it to go: 5\n",
      "(1, 'x', 34, '=', 34)\n",
      "(2, 'x', 34, '=', 68)\n",
      "(3, 'x', 34, '=', 102)\n",
      "(4, 'x', 34, '=', 136)\n",
      "(5, 'x', 34, '=', 170)\n",
      "complete\n"
     ]
    }
   ],
   "source": [
    "def timestable(num):\n",
    "    n=1\n",
    "    while n <= usr_inp:\n",
    "        print(n , \"x\", num, \"=\", n*num)\n",
    "        n += 1\n",
    "    print(\"Complete!\")\n",
    "    \n",
    "num = int(input(\"Enter a multiplication table: \"))\n",
    "usr_inp = int(input(\"Enter how far you would like it to go: \"))\n",
    "\n",
    "\n",
    "timestable(num)"
   ]
  },
  {
   "cell_type": "code",
   "execution_count": 9,
   "metadata": {
    "collapsed": false
   },
   "outputs": [
    {
     "name": "stdout",
     "output_type": "stream",
     "text": [
      "(1, 'x', 5, '=', 5)\n",
      "(2, 'x', 5, '=', 10)\n",
      "(3, 'x', 5, '=', 15)\n",
      "(4, 'x', 5, '=', 20)\n",
      "(5, 'x', 5, '=', 25)\n",
      "(6, 'x', 5, '=', 30)\n",
      "(7, 'x', 5, '=', 35)\n",
      "(8, 'x', 5, '=', 40)\n"
     ]
    }
   ],
   "source": [
    "timestable(5)"
   ]
  },
  {
   "cell_type": "code",
   "execution_count": null,
   "metadata": {
    "collapsed": true
   },
   "outputs": [],
   "source": []
  }
 ],
 "metadata": {
  "kernelspec": {
   "display_name": "Python 2",
   "language": "python",
   "name": "python2"
  },
  "language_info": {
   "codemirror_mode": {
    "name": "ipython",
    "version": 2
   },
   "file_extension": ".py",
   "mimetype": "text/x-python",
   "name": "python",
   "nbconvert_exporter": "python",
   "pygments_lexer": "ipython2",
   "version": "2.7.10"
  }
 },
 "nbformat": 4,
 "nbformat_minor": 0
}
