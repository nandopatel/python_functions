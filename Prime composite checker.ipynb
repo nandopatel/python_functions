{
 "cells": [
  {
   "cell_type": "code",
   "execution_count": 8,
   "metadata": {
    "collapsed": false
   },
   "outputs": [
    {
     "name": "stdout",
     "output_type": "stream",
     "text": [
      "Enter a number:56345\n",
      "Composite\n"
     ]
    }
   ],
   "source": [
    "#Check for prime or composite\n",
    "n=int(input(\"Enter a number:\"))\n",
    "def prime(n):\n",
    "    for x in range(2,n/2+1):\n",
    "        if n % x == 0:\n",
    "            return \"Composite\"\n",
    "    \n",
    "    return  \"Prime\"\n",
    "\n",
    "print (prime(n))"
   ]
  },
  {
   "cell_type": "code",
   "execution_count": null,
   "metadata": {
    "collapsed": true
   },
   "outputs": [],
   "source": []
  }
 ],
 "metadata": {
  "kernelspec": {
   "display_name": "Python 2",
   "language": "python",
   "name": "python2"
  },
  "language_info": {
   "codemirror_mode": {
    "name": "ipython",
    "version": 2
   },
   "file_extension": ".py",
   "mimetype": "text/x-python",
   "name": "python",
   "nbconvert_exporter": "python",
   "pygments_lexer": "ipython2",
   "version": "2.7.10"
  }
 },
 "nbformat": 4,
 "nbformat_minor": 0
}
