{
 "cells": [
  {
   "cell_type": "code",
   "execution_count": 1,
   "metadata": {
    "collapsed": false
   },
   "outputs": [
    {
     "name": "stdout",
     "output_type": "stream",
     "text": [
      "Enter Pin:\n",
      " 463698\n",
      "INCORRECT PIN. TRY AGAIN.\n",
      "Enter Pin:\n",
      " 12345\n",
      "PIN ACCEPTED. YOU NOW HAVE ACCESS TO YOUR ACCOUNT.\n"
     ]
    }
   ],
   "source": [
    "pin_number = '12345'\n",
    "counter = 0\n",
    "\n",
    "print(\"Enter Pin:\")\n",
    "pin_guess = raw_input(\" \")\n",
    "while counter < 2:\n",
    "   \n",
    "\n",
    "   \n",
    "       \n",
    "    \n",
    "    if pin_guess == pin_number:\n",
    "        print \"PIN ACCEPTED. YOU NOW HAVE ACCESS TO YOUR ACCOUNT.\"\n",
    "        break\n",
    "    else:\n",
    "        counter += 1\n",
    "        print \"INCORRECT PIN. TRY AGAIN.\"\n",
    "        print(\"Enter Pin:\")\n",
    "        pin_guess = raw_input(\" \")\n",
    "        \n",
    "if counter==2:\n",
    "    print \"YOU HAVE RUN OUT OF TRIES. ACCOUNT LOCKED.\"\n"
   ]
  }
 ],
 "metadata": {
  "kernelspec": {
   "display_name": "Python 2",
   "language": "python",
   "name": "python2"
  },
  "language_info": {
   "codemirror_mode": {
    "name": "ipython",
    "version": 2
   },
   "file_extension": ".py",
   "mimetype": "text/x-python",
   "name": "python",
   "nbconvert_exporter": "python",
   "pygments_lexer": "ipython2",
   "version": "2.7.10"
  }
 },
 "nbformat": 4,
 "nbformat_minor": 0
}
